{
 "cells": [
  {
   "cell_type": "code",
   "execution_count": null,
   "id": "36b600f9-bf77-4323-953c-721b29edf58c",
   "metadata": {},
   "outputs": [],
   "source": [
    "#Demo Exercise"
   ]
  },
  {
   "cell_type": "code",
   "execution_count": 1,
   "id": "7836002d-99ce-41b1-a6ba-275ac1a6f749",
   "metadata": {},
   "outputs": [
    {
     "name": "stdout",
     "output_type": "stream",
     "text": [
      "Requirement already satisfied: sec-edgar-downloader in /Users/sebatianstoneham/opt/anaconda3/lib/python3.8/site-packages (4.3.0)\n",
      "Requirement already satisfied: requests in /Users/sebatianstoneham/opt/anaconda3/lib/python3.8/site-packages (from sec-edgar-downloader) (2.25.1)\n",
      "Requirement already satisfied: bs4 in /Users/sebatianstoneham/opt/anaconda3/lib/python3.8/site-packages (from sec-edgar-downloader) (0.0.1)\n",
      "Requirement already satisfied: lxml in /Users/sebatianstoneham/opt/anaconda3/lib/python3.8/site-packages (from sec-edgar-downloader) (4.6.3)\n",
      "Requirement already satisfied: Faker in /Users/sebatianstoneham/opt/anaconda3/lib/python3.8/site-packages (from sec-edgar-downloader) (13.3.0)\n",
      "Requirement already satisfied: beautifulsoup4 in /Users/sebatianstoneham/opt/anaconda3/lib/python3.8/site-packages (from bs4->sec-edgar-downloader) (4.9.3)\n",
      "Requirement already satisfied: soupsieve>1.2 in /Users/sebatianstoneham/opt/anaconda3/lib/python3.8/site-packages (from beautifulsoup4->bs4->sec-edgar-downloader) (2.2.1)\n",
      "Requirement already satisfied: python-dateutil>=2.4 in /Users/sebatianstoneham/opt/anaconda3/lib/python3.8/site-packages (from Faker->sec-edgar-downloader) (2.8.1)\n",
      "Requirement already satisfied: six>=1.5 in /Users/sebatianstoneham/opt/anaconda3/lib/python3.8/site-packages (from python-dateutil>=2.4->Faker->sec-edgar-downloader) (1.15.0)\n",
      "Requirement already satisfied: chardet<5,>=3.0.2 in /Users/sebatianstoneham/opt/anaconda3/lib/python3.8/site-packages (from requests->sec-edgar-downloader) (4.0.0)\n",
      "Requirement already satisfied: idna<3,>=2.5 in /Users/sebatianstoneham/opt/anaconda3/lib/python3.8/site-packages (from requests->sec-edgar-downloader) (2.10)\n",
      "Requirement already satisfied: certifi>=2017.4.17 in /Users/sebatianstoneham/opt/anaconda3/lib/python3.8/site-packages (from requests->sec-edgar-downloader) (2020.12.5)\n",
      "Requirement already satisfied: urllib3<1.27,>=1.21.1 in /Users/sebatianstoneham/opt/anaconda3/lib/python3.8/site-packages (from requests->sec-edgar-downloader) (1.26.4)\n",
      "Note: you may need to restart the kernel to use updated packages.\n"
     ]
    }
   ],
   "source": [
    "pip install -U sec-edgar-downloader"
   ]
  },
  {
   "cell_type": "code",
   "execution_count": 2,
   "id": "5e5b63f4-3cdc-4361-96b7-dd61986b4584",
   "metadata": {},
   "outputs": [],
   "source": [
    "import pandas as pd\n",
    "from sec_edgar_downloader import Downloader\n",
    "import os"
   ]
  },
  {
   "cell_type": "code",
   "execution_count": 3,
   "id": "51b76512-b6f5-4385-9e04-50b1742c1ca0",
   "metadata": {},
   "outputs": [],
   "source": [
    "os.makedirs('input',exist_ok=True)\n",
    "os.makedirs('10k_files',exist_ok=True)"
   ]
  },
  {
   "cell_type": "code",
   "execution_count": 4,
   "id": "ca862ed7-32fb-4723-b8b1-d9f17449a2a6",
   "metadata": {},
   "outputs": [],
   "source": [
    "url = 'https://en.wikipedia.org/wiki/List_of_S%26P_500_companies'\n",
    "sample = pd.read_html(url)[0]\n",
    "sample.to_csv('input/sp500_firms.csv')"
   ]
  },
  {
   "cell_type": "code",
   "execution_count": 8,
   "id": "f98235e9-b7db-40f9-9ec5-34a3cb788187",
   "metadata": {},
   "outputs": [],
   "source": [
    "from sec_edgar_downloader import Downloader\n",
    "dl = Downloader('./10k_files/sec-edgar-fillings')\n",
    "firms = ['MSFT','AMZN','AAPL']\n",
    "\n",
    "for firm in firms:\n",
    "    dl.get(\"10-K\",firm, amount=3)\n"
   ]
  },
  {
   "cell_type": "code",
   "execution_count": null,
   "id": "f8bb338a-9bff-4924-9433-471dc7732a45",
   "metadata": {},
   "outputs": [],
   "source": []
  }
 ],
 "metadata": {
  "kernelspec": {
   "display_name": "Python 3",
   "language": "python",
   "name": "python3"
  },
  "language_info": {
   "codemirror_mode": {
    "name": "ipython",
    "version": 3
   },
   "file_extension": ".py",
   "mimetype": "text/x-python",
   "name": "python",
   "nbconvert_exporter": "python",
   "pygments_lexer": "ipython3",
   "version": "3.8.8"
  }
 },
 "nbformat": 4,
 "nbformat_minor": 5
}
