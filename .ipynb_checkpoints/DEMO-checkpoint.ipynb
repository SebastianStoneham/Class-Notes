{
 "cells": [
  {
   "cell_type": "code",
   "execution_count": null,
   "id": "36b600f9-bf77-4323-953c-721b29edf58c",
   "metadata": {},
   "outputs": [],
   "source": [
    "#Demo Exercise"
   ]
  },
  {
   "cell_type": "code",
   "execution_count": 1,
   "id": "7836002d-99ce-41b1-a6ba-275ac1a6f749",
   "metadata": {},
   "outputs": [
    {
     "name": "stdout",
     "output_type": "stream",
     "text": [
      "Requirement already satisfied: sec-edgar-downloader in /Users/sebatianstoneham/opt/anaconda3/lib/python3.8/site-packages (4.3.0)\n",
      "Requirement already satisfied: lxml in /Users/sebatianstoneham/opt/anaconda3/lib/python3.8/site-packages (from sec-edgar-downloader) (4.6.3)\n",
      "Requirement already satisfied: requests in /Users/sebatianstoneham/opt/anaconda3/lib/python3.8/site-packages (from sec-edgar-downloader) (2.25.1)\n",
      "Requirement already satisfied: bs4 in /Users/sebatianstoneham/opt/anaconda3/lib/python3.8/site-packages (from sec-edgar-downloader) (0.0.1)\n",
      "Requirement already satisfied: Faker in /Users/sebatianstoneham/opt/anaconda3/lib/python3.8/site-packages (from sec-edgar-downloader) (13.3.0)\n",
      "Requirement already satisfied: beautifulsoup4 in /Users/sebatianstoneham/opt/anaconda3/lib/python3.8/site-packages (from bs4->sec-edgar-downloader) (4.9.3)\n",
      "Requirement already satisfied: soupsieve>1.2 in /Users/sebatianstoneham/opt/anaconda3/lib/python3.8/site-packages (from beautifulsoup4->bs4->sec-edgar-downloader) (2.2.1)\n",
      "Requirement already satisfied: python-dateutil>=2.4 in /Users/sebatianstoneham/opt/anaconda3/lib/python3.8/site-packages (from Faker->sec-edgar-downloader) (2.8.1)\n",
      "Requirement already satisfied: six>=1.5 in /Users/sebatianstoneham/opt/anaconda3/lib/python3.8/site-packages (from python-dateutil>=2.4->Faker->sec-edgar-downloader) (1.15.0)\n",
      "Requirement already satisfied: urllib3<1.27,>=1.21.1 in /Users/sebatianstoneham/opt/anaconda3/lib/python3.8/site-packages (from requests->sec-edgar-downloader) (1.26.4)\n",
      "Requirement already satisfied: certifi>=2017.4.17 in /Users/sebatianstoneham/opt/anaconda3/lib/python3.8/site-packages (from requests->sec-edgar-downloader) (2020.12.5)\n",
      "Requirement already satisfied: chardet<5,>=3.0.2 in /Users/sebatianstoneham/opt/anaconda3/lib/python3.8/site-packages (from requests->sec-edgar-downloader) (4.0.0)\n",
      "Requirement already satisfied: idna<3,>=2.5 in /Users/sebatianstoneham/opt/anaconda3/lib/python3.8/site-packages (from requests->sec-edgar-downloader) (2.10)\n",
      "Note: you may need to restart the kernel to use updated packages.\n"
     ]
    }
   ],
   "source": [
    "pip install -U sec-edgar-downloader"
   ]
  },
  {
   "cell_type": "code",
   "execution_count": 2,
   "id": "5e7fad45-418a-490f-81d6-5c3958ec6db6",
   "metadata": {},
   "outputs": [
    {
     "name": "stdout",
     "output_type": "stream",
     "text": [
      "Requirement already satisfied: tqdm in /Users/sebatianstoneham/opt/anaconda3/lib/python3.8/site-packages (4.59.0)\n",
      "Note: you may need to restart the kernel to use updated packages.\n"
     ]
    }
   ],
   "source": [
    "pip install tqdm "
   ]
  },
  {
   "cell_type": "code",
   "execution_count": null,
   "id": "5e5b63f4-3cdc-4361-96b7-dd61986b4584",
   "metadata": {},
   "outputs": [],
   "source": [
    "import pandas as pd\n",
    "from sec_edgar_downloader import Downloader\n",
    "import os\n"
   ]
  },
  {
   "cell_type": "code",
   "execution_count": null,
   "id": "51b76512-b6f5-4385-9e04-50b1742c1ca0",
   "metadata": {},
   "outputs": [],
   "source": [
    "os.makedirs('input',exist_ok=True)\n",
    "os.makedirs('10k_files',exist_ok=True)"
   ]
  },
  {
   "cell_type": "code",
   "execution_count": null,
   "id": "ca862ed7-32fb-4723-b8b1-d9f17449a2a6",
   "metadata": {},
   "outputs": [],
   "source": [
    "url = 'https://en.wikipedia.org/wiki/List_of_S%26P_500_companies'\n",
    "sample = pd.read_html(url)[0]\n",
    "sample.to_csv('input/sp500_firms.csv')"
   ]
  },
  {
   "cell_type": "code",
   "execution_count": null,
   "id": "f98235e9-b7db-40f9-9ec5-34a3cb788187",
   "metadata": {},
   "outputs": [],
   "source": [
    "from sec_edgar_downloader import Downloader\n",
    "dl = Downloader('./10k_files')\n",
    "firms = ['MSFT','AMZN','AAPL']\n",
    "\n",
    "for firm in firms:\n",
    "    dl.get(\"10-K\",firm, amount=3)\n"
   ]
  },
  {
   "cell_type": "markdown",
   "id": "cbeb03f9-3250-4e2e-b16d-8f281211d081",
   "metadata": {},
   "source": [
    "##issues to consider with my spider\n",
    "1. SHould I loop over CIK or ticker?\n",
    "    - here, tickers, but BEWARE!\n",
    "1. Too fast! (maybe?)\n",
    "    - slow code down\n",
    "1. everytime I run dl.get(), it redownloads\n",
    "    - dont,if I already downladed AAPle dont repeat\n",
    "1. Progress Unclear - use a prgress tracker\n",
    "    - manual prints\n",
    "    - or tqdm()\n",
    "1. Huge memory requirements \n",
    "    - optinon A: lets only keep html files \n",
    "    - Option B: put all html files in zip file\n",
    "    - Option C: external hard drive \n",
    "    \n",
    "\n"
   ]
  },
  {
   "cell_type": "code",
   "execution_count": null,
   "id": "be19759b-0fce-4c55-8b7b-e018e5bdba98",
   "metadata": {},
   "outputs": [],
   "source": [
    "dl = Downloader('./10k_files')\n",
    "firms = ['MSFT','AMZN','AAPL']\n",
    "\n",
    "for firm in firms:\n",
    "    print(firm)\n",
    "    \n",
    "    firm_folder = '10k_files/sec-edgar-fillings/' + firm\n",
    "    if not os.path.exsists(firm_folder):\n",
    "        dl.get(\"10-K\", firm, amount=1,\n",
    "               after=\"2009-03-01\", before=\"2020-03-21\")\n",
    "    sleep(3) #pause\n",
    "    \n",
    "    #dl.get(\"10-K\",firm, amount=3)\n"
   ]
  },
  {
   "cell_type": "code",
   "execution_count": null,
   "id": "902aad86-7d7e-4dac-8779-d9855e755a6b",
   "metadata": {},
   "outputs": [],
   "source": []
  }
 ],
 "metadata": {
  "kernelspec": {
   "display_name": "Python 3",
   "language": "python",
   "name": "python3"
  },
  "language_info": {
   "codemirror_mode": {
    "name": "ipython",
    "version": 3
   },
   "file_extension": ".py",
   "mimetype": "text/x-python",
   "name": "python",
   "nbconvert_exporter": "python",
   "pygments_lexer": "ipython3",
   "version": "3.8.8"
  }
 },
 "nbformat": 4,
 "nbformat_minor": 5
}
