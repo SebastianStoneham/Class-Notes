{
 "cells": [
  {
   "cell_type": "markdown",
   "id": "93255baa-e030-47b3-8b5b-a19c9efd6409",
   "metadata": {},
   "source": [
    "Predicition Modeling Objective\n",
    "- learn something that generates\n",
    "    - given new data X deatrures\n",
    "        - predict Y outcome\n",
    "            \"with accuracy\"\n",
    "\n",
    "- Tune the complexity of the model\n",
    "    - Best \"accuracy\" in training data may not perform best out-of-sample \n",
    "    \n",
    "- Better Generalization\n",
    "    1. Holdout Data (one time!)\n",
    "    2. More data\n",
    "    3. EDA -> how clean, which X, \"feature engineering\"\n",
    "    4. Model Selection\n",
    "    5. Model Eval: CV\n",
    "    6. No Data Leaks\n",
    "        - data cleaning + model fit within folds training only "
   ]
  },
  {
   "cell_type": "code",
   "execution_count": null,
   "id": "43af0e97-fcd6-43ac-a95d-2dbe33b30015",
   "metadata": {},
   "outputs": [],
   "source": []
  }
 ],
 "metadata": {
  "kernelspec": {
   "display_name": "Python 3",
   "language": "python",
   "name": "python3"
  },
  "language_info": {
   "codemirror_mode": {
    "name": "ipython",
    "version": 3
   },
   "file_extension": ".py",
   "mimetype": "text/x-python",
   "name": "python",
   "nbconvert_exporter": "python",
   "pygments_lexer": "ipython3",
   "version": "3.8.8"
  }
 },
 "nbformat": 4,
 "nbformat_minor": 5
}
