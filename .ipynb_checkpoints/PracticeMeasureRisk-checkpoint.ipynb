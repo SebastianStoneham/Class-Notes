{
 "cells": [
  {
   "cell_type": "code",
   "execution_count": 8,
   "id": "3ebabc2f-7d47-4ba0-9180-192f989320f4",
   "metadata": {},
   "outputs": [],
   "source": [
    "import pandas as pd\n",
    "import random \n",
    "toy_database = pd.DataFrame({\"Security\":['3M','TLSA','APPL'],\n",
    "             \"URL\":['blahblah.com','wikisomething.com','wiki.com']})"
   ]
  },
  {
   "cell_type": "code",
   "execution_count": 35,
   "id": "133b57da-e669-4afb-8206-8d331cbc804f",
   "metadata": {},
   "outputs": [
    {
     "ename": "NameError",
     "evalue": "name 'risk_factor1' is not defined",
     "output_type": "error",
     "traceback": [
      "\u001b[0;31m---------------------------------------------------------------------------\u001b[0m",
      "\u001b[0;31mNameError\u001b[0m                                 Traceback (most recent call last)",
      "\u001b[0;32m<ipython-input-35-b5d155b3bf8c>\u001b[0m in \u001b[0;36m<module>\u001b[0;34m\u001b[0m\n\u001b[1;32m      5\u001b[0m     \u001b[0mnew_risk_var2\u001b[0m \u001b[0;34m=\u001b[0m \u001b[0mrandom\u001b[0m\u001b[0;34m.\u001b[0m\u001b[0mrandint\u001b[0m\u001b[0;34m(\u001b[0m\u001b[0;36m0\u001b[0m\u001b[0;34m,\u001b[0m\u001b[0;36m10\u001b[0m\u001b[0;34m)\u001b[0m\u001b[0;34m\u001b[0m\u001b[0;34m\u001b[0m\u001b[0m\n\u001b[1;32m      6\u001b[0m \u001b[0;34m\u001b[0m\u001b[0m\n\u001b[0;32m----> 7\u001b[0;31m     \u001b[0mrisk_factor1\u001b[0m\u001b[0;34m.\u001b[0m\u001b[0mappend\u001b[0m\u001b[0;34m(\u001b[0m\u001b[0mnew_risk_var1\u001b[0m\u001b[0;34m)\u001b[0m\u001b[0;34m\u001b[0m\u001b[0;34m\u001b[0m\u001b[0m\n\u001b[0m\u001b[1;32m      8\u001b[0m \u001b[0;34m\u001b[0m\u001b[0m\n\u001b[1;32m      9\u001b[0m     \u001b[0mrisk_factor2\u001b[0m\u001b[0;34m.\u001b[0m\u001b[0mappend\u001b[0m\u001b[0;34m(\u001b[0m\u001b[0mnew_risk_var2\u001b[0m\u001b[0;34m)\u001b[0m\u001b[0;34m\u001b[0m\u001b[0;34m\u001b[0m\u001b[0m\n",
      "\u001b[0;31mNameError\u001b[0m: name 'risk_factor1' is not defined"
     ]
    }
   ],
   "source": [
    "for Security in toy_database['Security']:\n",
    "    #print(Security)\n",
    "    \n",
    "    new_risk_var1 = random.randint(0,10)\n",
    "    new_risk_var2 = random.randint(0,10)\n",
    "    \n",
    "    risk_factor1.append(new_risk_var1)\n",
    "    \n",
    "    risk_factor2.append(new_risk_var2)\n",
    "toy_database"
   ]
  },
  {
   "cell_type": "code",
   "execution_count": null,
   "id": "ec5fd4b7-4bae-4a28-b48a-676e9d2aa147",
   "metadata": {},
   "outputs": [],
   "source": []
  },
  {
   "cell_type": "code",
   "execution_count": 36,
   "id": "1a72b677-50b3-40fd-85dd-84ce4f5d1f40",
   "metadata": {},
   "outputs": [
    {
     "ename": "AttributeError",
     "evalue": "'DataFrame' object has no attribute 'itterrows'",
     "output_type": "error",
     "traceback": [
      "\u001b[0;31m---------------------------------------------------------------------------\u001b[0m",
      "\u001b[0;31mAttributeError\u001b[0m                            Traceback (most recent call last)",
      "\u001b[0;32m<ipython-input-36-eda2dbec7b14>\u001b[0m in \u001b[0;36m<module>\u001b[0;34m\u001b[0m\n\u001b[0;32m----> 1\u001b[0;31m \u001b[0;32mfor\u001b[0m \u001b[0mindex\u001b[0m\u001b[0;34m,\u001b[0m \u001b[0mrows\u001b[0m \u001b[0;32min\u001b[0m \u001b[0mtoy_database\u001b[0m\u001b[0;34m.\u001b[0m\u001b[0mitterrows\u001b[0m\u001b[0;34m(\u001b[0m\u001b[0;34m)\u001b[0m\u001b[0;34m:\u001b[0m\u001b[0;34m\u001b[0m\u001b[0;34m\u001b[0m\u001b[0m\n\u001b[0m\u001b[1;32m      2\u001b[0m     \u001b[0;31m#print(index)\u001b[0m\u001b[0;34m\u001b[0m\u001b[0;34m\u001b[0m\u001b[0;34m\u001b[0m\u001b[0m\n\u001b[1;32m      3\u001b[0m     \u001b[0mprint\u001b[0m\u001b[0;34m(\u001b[0m\u001b[0mrow\u001b[0m\u001b[0;34m[\u001b[0m\u001b[0;34m'Security'\u001b[0m\u001b[0;34m]\u001b[0m\u001b[0;34m)\u001b[0m\u001b[0;34m\u001b[0m\u001b[0;34m\u001b[0m\u001b[0m\n\u001b[1;32m      4\u001b[0m     \u001b[0;31m#print('---------')\u001b[0m\u001b[0;34m\u001b[0m\u001b[0;34m\u001b[0m\u001b[0;34m\u001b[0m\u001b[0m\n\u001b[1;32m      5\u001b[0m     \u001b[0;31m#open 10k\u001b[0m\u001b[0;34m\u001b[0m\u001b[0;34m\u001b[0m\u001b[0;34m\u001b[0m\u001b[0m\n",
      "\u001b[0;32m~/opt/anaconda3/lib/python3.8/site-packages/pandas/core/generic.py\u001b[0m in \u001b[0;36m__getattr__\u001b[0;34m(self, name)\u001b[0m\n\u001b[1;32m   5463\u001b[0m             \u001b[0;32mif\u001b[0m \u001b[0mself\u001b[0m\u001b[0;34m.\u001b[0m\u001b[0m_info_axis\u001b[0m\u001b[0;34m.\u001b[0m\u001b[0m_can_hold_identifiers_and_holds_name\u001b[0m\u001b[0;34m(\u001b[0m\u001b[0mname\u001b[0m\u001b[0;34m)\u001b[0m\u001b[0;34m:\u001b[0m\u001b[0;34m\u001b[0m\u001b[0;34m\u001b[0m\u001b[0m\n\u001b[1;32m   5464\u001b[0m                 \u001b[0;32mreturn\u001b[0m \u001b[0mself\u001b[0m\u001b[0;34m[\u001b[0m\u001b[0mname\u001b[0m\u001b[0;34m]\u001b[0m\u001b[0;34m\u001b[0m\u001b[0;34m\u001b[0m\u001b[0m\n\u001b[0;32m-> 5465\u001b[0;31m             \u001b[0;32mreturn\u001b[0m \u001b[0mobject\u001b[0m\u001b[0;34m.\u001b[0m\u001b[0m__getattribute__\u001b[0m\u001b[0;34m(\u001b[0m\u001b[0mself\u001b[0m\u001b[0;34m,\u001b[0m \u001b[0mname\u001b[0m\u001b[0;34m)\u001b[0m\u001b[0;34m\u001b[0m\u001b[0;34m\u001b[0m\u001b[0m\n\u001b[0m\u001b[1;32m   5466\u001b[0m \u001b[0;34m\u001b[0m\u001b[0m\n\u001b[1;32m   5467\u001b[0m     \u001b[0;32mdef\u001b[0m \u001b[0m__setattr__\u001b[0m\u001b[0;34m(\u001b[0m\u001b[0mself\u001b[0m\u001b[0;34m,\u001b[0m \u001b[0mname\u001b[0m\u001b[0;34m:\u001b[0m \u001b[0mstr\u001b[0m\u001b[0;34m,\u001b[0m \u001b[0mvalue\u001b[0m\u001b[0;34m)\u001b[0m \u001b[0;34m->\u001b[0m \u001b[0;32mNone\u001b[0m\u001b[0;34m:\u001b[0m\u001b[0;34m\u001b[0m\u001b[0;34m\u001b[0m\u001b[0m\n",
      "\u001b[0;31mAttributeError\u001b[0m: 'DataFrame' object has no attribute 'itterrows'"
     ]
    }
   ],
   "source": [
    "for index, rows in toy_database.itterrows():\n",
    "    #print(index)\n",
    "    print(row['Security'])\n",
    "    #print('---------')\n",
    "    #open 10k\n",
    "    #here\n",
    "    \n",
    "    new_risk_var1 = random.randint(0,10)\n",
    "    new_risk_var2 = random.randint(0,10)\n",
    "    \n",
    "    #put into database\n",
    "    toy_database.at[index,'risk1'] = new_risk_var1\n",
    "    toy_database.at[index,'risk2'] = new_risk_var2\n",
    "    \n",
    "toy_database\n",
    "    \n",
    "    \n",
    "    \n"
   ]
  },
  {
   "cell_type": "markdown",
   "id": "01a85bb5-b7f0-43d3-9d2a-f0987a5a33c5",
   "metadata": {},
   "source": [
    "#Measuring which risks tesla faces\n",
    "Brainstorm them :\n",
    "    - supply chain risk \n",
    "    - computer chips\n",
    "    - changes to tax policy \n",
    "    - price of alternatives (ICE, gas/oil)\n",
    "    - business cycle risk (inome of customers, preference changes)\n",
    "    - environmental regulation "
   ]
  },
  {
   "cell_type": "code",
   "execution_count": 20,
   "id": "3e86211f-f235-4823-8209-f34894100286",
   "metadata": {},
   "outputs": [],
   "source": [
    "# opening a 10k\n",
    "fname = \"10k_files/sec-edgar-filings/TSLA/10-K/0001564590-20-004475/filing-details.html\"\n",
    "\n",
    "\n",
    "with open (fname, encoding=\"utf-8\") as report_file:\n",
    "    html = report_file.read()\n",
    "    "
   ]
  },
  {
   "cell_type": "code",
   "execution_count": 21,
   "id": "de5a4c37-c722-4f30-8065-dd0f70251a63",
   "metadata": {},
   "outputs": [],
   "source": [
    "#html[:100000]"
   ]
  },
  {
   "cell_type": "code",
   "execution_count": 22,
   "id": "fea4b047-e54c-47e4-a8af-880e92be0354",
   "metadata": {},
   "outputs": [],
   "source": [
    "#practice our searches\n",
    "from near_regex import NEAR_regex\n"
   ]
  },
  {
   "cell_type": "code",
   "execution_count": 23,
   "id": "deeba978-d374-4098-bb16-b6e3c1f0bcb8",
   "metadata": {},
   "outputs": [],
   "source": [
    "import re"
   ]
  },
  {
   "cell_type": "code",
   "execution_count": 32,
   "id": "d603b341-d802-4efe-b2e9-0422be364ea7",
   "metadata": {},
   "outputs": [],
   "source": [
    "test  = 'This is a partial string another break with words'\n",
    "words = ['partial','with']\n",
    "rgx   = NEAR_regex(words)"
   ]
  },
  {
   "cell_type": "code",
   "execution_count": 33,
   "id": "5ba14352-610e-4f4a-a17d-1eecba574b56",
   "metadata": {},
   "outputs": [
    {
     "name": "stdout",
     "output_type": "stream",
     "text": [
      "1\n"
     ]
    }
   ],
   "source": [
    "print(len(re.findall(rgx,test)))"
   ]
  },
  {
   "cell_type": "code",
   "execution_count": null,
   "id": "eee0d38e-044f-47af-b390-6895f230a561",
   "metadata": {},
   "outputs": [],
   "source": []
  }
 ],
 "metadata": {
  "kernelspec": {
   "display_name": "Python 3",
   "language": "python",
   "name": "python3"
  },
  "language_info": {
   "codemirror_mode": {
    "name": "ipython",
    "version": 3
   },
   "file_extension": ".py",
   "mimetype": "text/x-python",
   "name": "python",
   "nbconvert_exporter": "python",
   "pygments_lexer": "ipython3",
   "version": "3.8.8"
  }
 },
 "nbformat": 4,
 "nbformat_minor": 5
}
