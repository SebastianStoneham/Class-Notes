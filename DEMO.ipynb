{
 "cells": [
  {
   "cell_type": "code",
   "execution_count": null,
   "id": "36b600f9-bf77-4323-953c-721b29edf58c",
   "metadata": {},
   "outputs": [],
   "source": [
    "#Demo Exercise"
   ]
  },
  {
   "cell_type": "code",
   "execution_count": 3,
   "id": "7836002d-99ce-41b1-a6ba-275ac1a6f749",
   "metadata": {},
   "outputs": [
    {
     "name": "stdout",
     "output_type": "stream",
     "text": [
      "Collecting sec-edgar-downloader\n",
      "  Downloading sec_edgar_downloader-4.3.0-py3-none-any.whl (13 kB)\n",
      "Requirement already satisfied: lxml in /Users/sebatianstoneham/opt/anaconda3/lib/python3.8/site-packages (from sec-edgar-downloader) (4.6.3)\n",
      "Collecting bs4\n",
      "  Downloading bs4-0.0.1.tar.gz (1.1 kB)\n",
      "Collecting Faker\n",
      "  Downloading Faker-13.3.0-py3-none-any.whl (1.5 MB)\n",
      "\u001b[K     |████████████████████████████████| 1.5 MB 1.9 MB/s eta 0:00:01\n",
      "\u001b[?25hRequirement already satisfied: requests in /Users/sebatianstoneham/opt/anaconda3/lib/python3.8/site-packages (from sec-edgar-downloader) (2.25.1)\n",
      "Requirement already satisfied: beautifulsoup4 in /Users/sebatianstoneham/opt/anaconda3/lib/python3.8/site-packages (from bs4->sec-edgar-downloader) (4.9.3)\n",
      "Requirement already satisfied: soupsieve>1.2 in /Users/sebatianstoneham/opt/anaconda3/lib/python3.8/site-packages (from beautifulsoup4->bs4->sec-edgar-downloader) (2.2.1)\n",
      "Requirement already satisfied: python-dateutil>=2.4 in /Users/sebatianstoneham/opt/anaconda3/lib/python3.8/site-packages (from Faker->sec-edgar-downloader) (2.8.1)\n",
      "Requirement already satisfied: six>=1.5 in /Users/sebatianstoneham/opt/anaconda3/lib/python3.8/site-packages (from python-dateutil>=2.4->Faker->sec-edgar-downloader) (1.15.0)\n",
      "Requirement already satisfied: urllib3<1.27,>=1.21.1 in /Users/sebatianstoneham/opt/anaconda3/lib/python3.8/site-packages (from requests->sec-edgar-downloader) (1.26.4)\n",
      "Requirement already satisfied: idna<3,>=2.5 in /Users/sebatianstoneham/opt/anaconda3/lib/python3.8/site-packages (from requests->sec-edgar-downloader) (2.10)\n",
      "Requirement already satisfied: certifi>=2017.4.17 in /Users/sebatianstoneham/opt/anaconda3/lib/python3.8/site-packages (from requests->sec-edgar-downloader) (2020.12.5)\n",
      "Requirement already satisfied: chardet<5,>=3.0.2 in /Users/sebatianstoneham/opt/anaconda3/lib/python3.8/site-packages (from requests->sec-edgar-downloader) (4.0.0)\n",
      "Building wheels for collected packages: bs4\n",
      "  Building wheel for bs4 (setup.py) ... \u001b[?25ldone\n",
      "\u001b[?25h  Created wheel for bs4: filename=bs4-0.0.1-py3-none-any.whl size=1273 sha256=cd80260e36e4bb99408f5ba0f215aeab746f19b22e1cf0cff30a5ef123e6733e\n",
      "  Stored in directory: /Users/sebatianstoneham/Library/Caches/pip/wheels/75/78/21/68b124549c9bdc94f822c02fb9aa3578a669843f9767776bca\n",
      "Successfully built bs4\n",
      "Installing collected packages: Faker, bs4, sec-edgar-downloader\n",
      "Successfully installed Faker-13.3.0 bs4-0.0.1 sec-edgar-downloader-4.3.0\n",
      "Note: you may need to restart the kernel to use updated packages.\n"
     ]
    }
   ],
   "source": [
    "pip install -U sec-edgar-downloader"
   ]
  },
  {
   "cell_type": "code",
   "execution_count": 6,
   "id": "5e5b63f4-3cdc-4361-96b7-dd61986b4584",
   "metadata": {},
   "outputs": [],
   "source": [
    "import pandas as pd\n",
    "from sec_edgar_downloader import Downloader\n",
    "import os"
   ]
  },
  {
   "cell_type": "code",
   "execution_count": 7,
   "id": "51b76512-b6f5-4385-9e04-50b1742c1ca0",
   "metadata": {},
   "outputs": [],
   "source": [
    "os.makedirs('input',exist_ok=True)\n",
    "os.makedirs('10k_files',exist_ok=True)"
   ]
  },
  {
   "cell_type": "code",
   "execution_count": 31,
   "id": "ca862ed7-32fb-4723-b8b1-d9f17449a2a6",
   "metadata": {},
   "outputs": [],
   "source": [
    "url = 'https://en.wikipedia.org/wiki/List_of_S%26P_500_companies'\n",
    "sample = pd.read_html(url)[0]\n",
    "sample.to_csv('input/sp500_firms.csv')"
   ]
  },
  {
   "cell_type": "code",
   "execution_count": 42,
   "id": "601e03bd-c4bd-4de1-a66f-97f62910cd87",
   "metadata": {},
   "outputs": [
    {
     "ename": "AttributeError",
     "evalue": "'str' object has no attribute 'get'",
     "output_type": "error",
     "traceback": [
      "\u001b[0;31m---------------------------------------------------------------------------\u001b[0m",
      "\u001b[0;31mAttributeError\u001b[0m                            Traceback (most recent call last)",
      "\u001b[0;32m<ipython-input-42-6384e43031f2>\u001b[0m in \u001b[0;36m<module>\u001b[0;34m\u001b[0m\n\u001b[1;32m      5\u001b[0m \u001b[0;32mfor\u001b[0m \u001b[0mfirm\u001b[0m \u001b[0;32min\u001b[0m \u001b[0mfirms\u001b[0m\u001b[0;34m:\u001b[0m\u001b[0;34m\u001b[0m\u001b[0;34m\u001b[0m\u001b[0m\n\u001b[1;32m      6\u001b[0m     \u001b[0;32mfor\u001b[0m \u001b[0mdl\u001b[0m \u001b[0;32min\u001b[0m \u001b[0mdl\u001b[0m\u001b[0;34m.\u001b[0m\u001b[0msupported_filings\u001b[0m\u001b[0;34m:\u001b[0m\u001b[0;34m\u001b[0m\u001b[0;34m\u001b[0m\u001b[0m\n\u001b[0;32m----> 7\u001b[0;31m         \u001b[0mdl\u001b[0m\u001b[0;34m.\u001b[0m\u001b[0mget\u001b[0m\u001b[0;34m(\u001b[0m\u001b[0;34m'10k_files'\u001b[0m\u001b[0;34m,\u001b[0m \u001b[0mfirm\u001b[0m\u001b[0;34m,\u001b[0m \u001b[0mamount\u001b[0m\u001b[0;34m=\u001b[0m\u001b[0;36m1\u001b[0m\u001b[0;34m)\u001b[0m\u001b[0;34m\u001b[0m\u001b[0;34m\u001b[0m\u001b[0m\n\u001b[0m",
      "\u001b[0;31mAttributeError\u001b[0m: 'str' object has no attribute 'get'"
     ]
    }
   ],
   "source": [
    "from sec_edgar_downloader import Downloader\n",
    "dl = Downloader()\n",
    "firms = ['MSFT','AMZN','AAPL']\n",
    "\n",
    "for firm in firms:\n",
    "    for dl in dl.supported_filings:\n",
    "        dl.get('10k_files', firm, amount=1)"
   ]
  },
  {
   "cell_type": "code",
   "execution_count": 29,
   "id": "7ab169ac-ded2-4d21-ac03-b5602b843e2c",
   "metadata": {},
   "outputs": [],
   "source": [
    "dl = Downloader(\"10k_files\")\n",
    "def search_edgar(search_term):\n",
    "    '''Run one simple iTunes search'''\n",
    "    \n",
    "    base_url = 'https://en.wikipedia.org/wiki/List_of_S%26P_500_companies'\n",
    "    search_parameters = {'10-k': search_term}\n",
    "    \n",
    "    r = dl.get(base_url, dl=search_term)\n",
    "    \n",
    "    results_df = pd.DataFrame(r.json()['results'])\n",
    "    \n",
    "    return results_df"
   ]
  },
  {
   "cell_type": "code",
   "execution_count": 30,
   "id": "50ac6b2f-22df-4952-823d-4b799e9af80f",
   "metadata": {},
   "outputs": [
    {
     "ename": "TypeError",
     "evalue": "get() got an unexpected keyword argument 'dl'",
     "output_type": "error",
     "traceback": [
      "\u001b[0;31m---------------------------------------------------------------------------\u001b[0m",
      "\u001b[0;31mTypeError\u001b[0m                                 Traceback (most recent call last)",
      "\u001b[0;32m<ipython-input-30-bb662ab02098>\u001b[0m in \u001b[0;36m<module>\u001b[0;34m\u001b[0m\n\u001b[1;32m      3\u001b[0m \u001b[0;31m# download the results and save locally\u001b[0m\u001b[0;34m\u001b[0m\u001b[0;34m\u001b[0m\u001b[0;34m\u001b[0m\u001b[0m\n\u001b[1;32m      4\u001b[0m \u001b[0;32mfor\u001b[0m \u001b[0mfirm\u001b[0m \u001b[0;32min\u001b[0m \u001b[0mfirms\u001b[0m\u001b[0;34m:\u001b[0m\u001b[0;34m\u001b[0m\u001b[0;34m\u001b[0m\u001b[0m\n\u001b[0;32m----> 5\u001b[0;31m     \u001b[0mdf\u001b[0m \u001b[0;34m=\u001b[0m \u001b[0msearch_edgar\u001b[0m\u001b[0;34m(\u001b[0m\u001b[0mfirm\u001b[0m\u001b[0;34m)\u001b[0m\u001b[0;34m\u001b[0m\u001b[0;34m\u001b[0m\u001b[0m\n\u001b[0m\u001b[1;32m      6\u001b[0m     \u001b[0;31m# you could do anything with the results here\u001b[0m\u001b[0;34m\u001b[0m\u001b[0;34m\u001b[0m\u001b[0;34m\u001b[0m\u001b[0m\n\u001b[1;32m      7\u001b[0m     \u001b[0;31m# a good idea in many projects: save the webpage/search results\u001b[0m\u001b[0;34m\u001b[0m\u001b[0;34m\u001b[0m\u001b[0;34m\u001b[0m\u001b[0m\n",
      "\u001b[0;32m<ipython-input-29-b08947117d07>\u001b[0m in \u001b[0;36msearch_edgar\u001b[0;34m(search_term)\u001b[0m\n\u001b[1;32m      5\u001b[0m     \u001b[0msearch_parameters\u001b[0m \u001b[0;34m=\u001b[0m \u001b[0;34m{\u001b[0m\u001b[0;34m'10-k'\u001b[0m\u001b[0;34m:\u001b[0m \u001b[0msearch_term\u001b[0m\u001b[0;34m}\u001b[0m\u001b[0;34m\u001b[0m\u001b[0;34m\u001b[0m\u001b[0m\n\u001b[1;32m      6\u001b[0m \u001b[0;34m\u001b[0m\u001b[0m\n\u001b[0;32m----> 7\u001b[0;31m     \u001b[0mr\u001b[0m \u001b[0;34m=\u001b[0m \u001b[0mdl\u001b[0m\u001b[0;34m.\u001b[0m\u001b[0mget\u001b[0m\u001b[0;34m(\u001b[0m\u001b[0mbase_url\u001b[0m\u001b[0;34m,\u001b[0m \u001b[0mdl\u001b[0m\u001b[0;34m=\u001b[0m\u001b[0msearch_term\u001b[0m\u001b[0;34m)\u001b[0m\u001b[0;34m\u001b[0m\u001b[0;34m\u001b[0m\u001b[0m\n\u001b[0m\u001b[1;32m      8\u001b[0m \u001b[0;34m\u001b[0m\u001b[0m\n\u001b[1;32m      9\u001b[0m     \u001b[0mresults_df\u001b[0m \u001b[0;34m=\u001b[0m \u001b[0mpd\u001b[0m\u001b[0;34m.\u001b[0m\u001b[0mDataFrame\u001b[0m\u001b[0;34m(\u001b[0m\u001b[0mr\u001b[0m\u001b[0;34m.\u001b[0m\u001b[0mjson\u001b[0m\u001b[0;34m(\u001b[0m\u001b[0;34m)\u001b[0m\u001b[0;34m[\u001b[0m\u001b[0;34m'results'\u001b[0m\u001b[0;34m]\u001b[0m\u001b[0;34m)\u001b[0m\u001b[0;34m\u001b[0m\u001b[0;34m\u001b[0m\u001b[0m\n",
      "\u001b[0;31mTypeError\u001b[0m: get() got an unexpected keyword argument 'dl'"
     ]
    }
   ],
   "source": [
    "firms = ['MSFT','AMZN','AAPL']# you can loop over them!\n",
    "\n",
    "# download the results and save locally\n",
    "for firm in firms:\n",
    "    df = search_edgar(firm)\n",
    "    # you could do anything with the results here\n",
    "    # a good idea in many projects: save the webpage/search results\n",
    "    # even better: add the saving function inside the \"search_itunes\" fcn\n",
    "    # but this is just a toy illustration, so nothing happens\n",
    "    pass\n",
    "    "
   ]
  },
  {
   "cell_type": "code",
   "execution_count": null,
   "id": "aa5dea8d-df25-44af-9eeb-3fe20de4ffa4",
   "metadata": {},
   "outputs": [],
   "source": [
    "for artist in artists:\n",
    "    # load the saved file\n",
    "    # call a function you wrote to parse/analyze/reformat one file\n",
    "    # do something with the output from the parser\n",
    "    # but this is just a toy illustration, so nothing happens    \n",
    "    pass   "
   ]
  },
  {
   "cell_type": "code",
   "execution_count": 9,
   "id": "8f8e2d92-3a0f-402f-9aea-d0867226845e",
   "metadata": {},
   "outputs": [],
   "source": [
    "dl = Downloader(\"10k_files\")\n",
    "firms = ['MSFT','AMZN','AAPL']"
   ]
  },
  {
   "cell_type": "code",
   "execution_count": 19,
   "id": "41c4211c-80b6-44fe-a5bc-40bbe835b7ad",
   "metadata": {},
   "outputs": [
    {
     "data": {
      "text/plain": [
       "2"
      ]
     },
     "execution_count": 19,
     "metadata": {},
     "output_type": "execute_result"
    }
   ],
   "source": [
    "dl.get(\"10-K\", \"MSFT\",\"\", amount=3)"
   ]
  },
  {
   "cell_type": "code",
   "execution_count": 12,
   "id": "8aea8c31-4b28-4213-9329-8b8dc33d650f",
   "metadata": {},
   "outputs": [
    {
     "data": {
      "text/plain": [
       "[    Symbol       Security SEC filings             GICS Sector  \\\n",
       " 0      MMM             3M     reports             Industrials   \n",
       " 1      AOS    A. O. Smith     reports             Industrials   \n",
       " 2      ABT         Abbott     reports             Health Care   \n",
       " 3     ABBV         AbbVie     reports             Health Care   \n",
       " 4     ABMD        Abiomed     reports             Health Care   \n",
       " ..     ...            ...         ...                     ...   \n",
       " 500    YUM    Yum! Brands     reports  Consumer Discretionary   \n",
       " 501   ZBRA          Zebra     reports  Information Technology   \n",
       " 502    ZBH  Zimmer Biomet     reports             Health Care   \n",
       " 503   ZION  Zions Bancorp     reports              Financials   \n",
       " 504    ZTS         Zoetis     reports             Health Care   \n",
       " \n",
       "                       GICS Sub-Industry    Headquarters Location  \\\n",
       " 0              Industrial Conglomerates    Saint Paul, Minnesota   \n",
       " 1                     Building Products     Milwaukee, Wisconsin   \n",
       " 2                 Health Care Equipment  North Chicago, Illinois   \n",
       " 3                       Pharmaceuticals  North Chicago, Illinois   \n",
       " 4                 Health Care Equipment   Danvers, Massachusetts   \n",
       " ..                                  ...                      ...   \n",
       " 500                         Restaurants     Louisville, Kentucky   \n",
       " 501  Electronic Equipment & Instruments   Lincolnshire, Illinois   \n",
       " 502               Health Care Equipment          Warsaw, Indiana   \n",
       " 503                      Regional Banks     Salt Lake City, Utah   \n",
       " 504                     Pharmaceuticals   Parsippany, New Jersey   \n",
       " \n",
       "     Date first added      CIK      Founded  \n",
       " 0         1976-08-09    66740         1902  \n",
       " 1         2017-07-26    91142         1916  \n",
       " 2         1964-03-31     1800         1888  \n",
       " 3         2012-12-31  1551152  2013 (1888)  \n",
       " 4         2018-05-31   815094         1981  \n",
       " ..               ...      ...          ...  \n",
       " 500       1997-10-06  1041061         1997  \n",
       " 501       2019-12-23   877212         1969  \n",
       " 502       2001-08-07  1136869         1927  \n",
       " 503       2001-06-22   109380         1873  \n",
       " 504       2013-06-21  1555280         1952  \n",
       " \n",
       " [505 rows x 9 columns],\n",
       "                   Date  Added                       Removed                   \\\n",
       "                   Date Ticker              Security  Ticker         Security   \n",
       " 0    February 15, 2022   NDSN               Nordson    XLNX           Xilinx   \n",
       " 1     February 3, 2022    NaN                   NaN     GPS              Gap   \n",
       " 2     February 2, 2022    CEG  Constellation Energy     NaN              NaN   \n",
       " 3    December 20, 2021   SBNY        Signature Bank     LEG  Leggett & Platt   \n",
       " 4    December 20, 2021   SEDG             SolarEdge     HBI      Hanesbrands   \n",
       " ..                 ...    ...                   ...     ...              ...   \n",
       " 285   December 5, 2000    SBL   Symbol Technologies      OI   Owens-Illinois   \n",
       " 286   December 5, 2000    AYE      Allegheny Energy     GRA         WR Grace   \n",
       " 287   December 5, 2000    ABK       Ambac Financial     CCK   Crown Holdings   \n",
       " 288      July 27, 2000   JDSU          JDS Uniphase     RAD          RiteAid   \n",
       " 289   December 7, 1999   YHOO                Yahoo!     LDW          Laidlaw   \n",
       " \n",
       "                                                 Reason  \n",
       "                                                 Reason  \n",
       " 0    S&P 500 constituent Advanced Micro Devices acq...  \n",
       " 1                     Market capitalization change.[7]  \n",
       " 2    S&P 500 and 100 constituent Exelon Corp. spun ...  \n",
       " 3                     Market capitalization change.[8]  \n",
       " 4                     Market capitalization change.[8]  \n",
       " ..                                                 ...  \n",
       " 285                                Market Cap changes.  \n",
       " 286                                Market Cap changes.  \n",
       " 287                                Market Cap changes.  \n",
       " 288                            Market Cap change.[224]  \n",
       " 289                 Market capitalization change.[225]  \n",
       " \n",
       " [290 rows x 6 columns]]"
      ]
     },
     "execution_count": 12,
     "metadata": {},
     "output_type": "execute_result"
    }
   ],
   "source": [
    "pd.read_html('https://en.wikipedia.org/wiki/List_of_S%26P_500_companies')\n",
    "\n"
   ]
  },
  {
   "cell_type": "code",
   "execution_count": null,
   "id": "cf7263d6-e20e-4238-b304-93121953aabc",
   "metadata": {},
   "outputs": [],
   "source": []
  },
  {
   "cell_type": "code",
   "execution_count": 13,
   "id": "40ce799b-d67f-437b-b3d3-2c4e516a3a39",
   "metadata": {},
   "outputs": [
    {
     "name": "stdout",
     "output_type": "stream",
     "text": [
      "    Symbol       Security SEC filings             GICS Sector  \\\n",
      "0      MMM             3M     reports             Industrials   \n",
      "1      AOS    A. O. Smith     reports             Industrials   \n",
      "2      ABT         Abbott     reports             Health Care   \n",
      "3     ABBV         AbbVie     reports             Health Care   \n",
      "4     ABMD        Abiomed     reports             Health Care   \n",
      "..     ...            ...         ...                     ...   \n",
      "500    YUM    Yum! Brands     reports  Consumer Discretionary   \n",
      "501   ZBRA          Zebra     reports  Information Technology   \n",
      "502    ZBH  Zimmer Biomet     reports             Health Care   \n",
      "503   ZION  Zions Bancorp     reports              Financials   \n",
      "504    ZTS         Zoetis     reports             Health Care   \n",
      "\n",
      "                      GICS Sub-Industry    Headquarters Location  \\\n",
      "0              Industrial Conglomerates    Saint Paul, Minnesota   \n",
      "1                     Building Products     Milwaukee, Wisconsin   \n",
      "2                 Health Care Equipment  North Chicago, Illinois   \n",
      "3                       Pharmaceuticals  North Chicago, Illinois   \n",
      "4                 Health Care Equipment   Danvers, Massachusetts   \n",
      "..                                  ...                      ...   \n",
      "500                         Restaurants     Louisville, Kentucky   \n",
      "501  Electronic Equipment & Instruments   Lincolnshire, Illinois   \n",
      "502               Health Care Equipment          Warsaw, Indiana   \n",
      "503                      Regional Banks     Salt Lake City, Utah   \n",
      "504                     Pharmaceuticals   Parsippany, New Jersey   \n",
      "\n",
      "    Date first added      CIK      Founded  \n",
      "0         1976-08-09    66740         1902  \n",
      "1         2017-07-26    91142         1916  \n",
      "2         1964-03-31     1800         1888  \n",
      "3         2012-12-31  1551152  2013 (1888)  \n",
      "4         2018-05-31   815094         1981  \n",
      "..               ...      ...          ...  \n",
      "500       1997-10-06  1041061         1997  \n",
      "501       2019-12-23   877212         1969  \n",
      "502       2001-08-07  1136869         1927  \n",
      "503       2001-06-22   109380         1873  \n",
      "504       2013-06-21  1555280         1952  \n",
      "\n",
      "[505 rows x 9 columns]\n"
     ]
    }
   ],
   "source": [
    "print(sample)"
   ]
  },
  {
   "cell_type": "code",
   "execution_count": 18,
   "id": "46bd5252-170c-4fdf-9798-590ee59adc49",
   "metadata": {},
   "outputs": [
    {
     "data": {
      "text/plain": [
       "<sec_edgar_downloader.Downloader.Downloader at 0x7fee0c5cbee0>"
      ]
     },
     "metadata": {},
     "output_type": "display_data"
    }
   ],
   "source": [
    "display(dl)"
   ]
  },
  {
   "cell_type": "code",
   "execution_count": null,
   "id": "d0d485b2-a44e-4103-a4a8-a1fb84f7a5e5",
   "metadata": {},
   "outputs": [],
   "source": []
  }
 ],
 "metadata": {
  "kernelspec": {
   "display_name": "Python 3",
   "language": "python",
   "name": "python3"
  },
  "language_info": {
   "codemirror_mode": {
    "name": "ipython",
    "version": 3
   },
   "file_extension": ".py",
   "mimetype": "text/x-python",
   "name": "python",
   "nbconvert_exporter": "python",
   "pygments_lexer": "ipython3",
   "version": "3.8.8"
  }
 },
 "nbformat": 4,
 "nbformat_minor": 5
}
