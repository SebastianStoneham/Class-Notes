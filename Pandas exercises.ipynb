{
 "cells": [
  {
   "cell_type": "code",
   "execution_count": 2,
   "id": "31aab3cb-c993-4836-93c3-a30b28b0440a",
   "metadata": {},
   "outputs": [],
   "source": [
    "import datetime\n",
    "\n",
    "import numpy as np\n",
    "import pandas as pd\n",
    "import pandas_datareader as pdr  # IF NECESSARY, from terminal: pip install pandas_datareader\n",
    "from numpy.random import default_rng\n",
    "\n",
    "pd.set_option(\"display.max_rows\", 10)  # display option for pandas\n",
    "# more here: https://pandas.pydata.org/pandas-docs/stable/user_guide/options.html"
   ]
  },
  {
   "cell_type": "markdown",
   "id": "7d26a1a2-b679-4b1f-a9ea-d64c9db79269",
   "metadata": {},
   "source": [
    "## A quick hit of Numpy"
   ]
  },
  {
   "cell_type": "code",
   "execution_count": 4,
   "id": "708bd962-843e-408d-8d8d-0a6766bc7cdc",
   "metadata": {},
   "outputs": [
    {
     "name": "stdout",
     "output_type": "stream",
     "text": [
      "myray: [ 1.69451086 -0.15926504 -1.46624171  0.42097902 -1.43420523]\n"
     ]
    }
   ],
   "source": [
    "# create a random vector \n",
    "# every run of this --> diff #s\n",
    "# see 3.2.2.2 in the textbook for why, \n",
    "# and how to prevent\n",
    "\n",
    "rg = default_rng()\n",
    "myray = rg.standard_normal(5)\n",
    "print(\"myray:\", myray) "
   ]
  },
  {
   "cell_type": "code",
   "execution_count": 5,
   "id": "7117b4f7-7c2a-4d91-b6d5-5016144da3cc",
   "metadata": {},
   "outputs": [
    {
     "data": {
      "text/plain": [
       "array([-0.15926504,  0.42097902])"
      ]
     },
     "execution_count": 5,
     "metadata": {},
     "output_type": "execute_result"
    }
   ],
   "source": [
    "# q1 - indexing, pick the odd elements\n",
    "myray[1::2]"
   ]
  },
  {
   "cell_type": "markdown",
   "id": "2deffcd5-8da2-45ba-9993-28ba5ae2326d",
   "metadata": {},
   "source": [
    "Booleans arrays: Asking a logic test on an array, returns the array, where each element has been tested against that logic and converted to the boolean answer."
   ]
  },
  {
   "cell_type": "code",
   "execution_count": 8,
   "id": "e62e18c6-8c13-43c4-a981-49d6153ee578",
   "metadata": {},
   "outputs": [
    {
     "data": {
      "text/plain": [
       "array([1.69451086, 0.42097902])"
      ]
     },
     "execution_count": 8,
     "metadata": {},
     "output_type": "execute_result"
    }
   ],
   "source": [
    "# q2 - (a) boolean array + (b) \"masking\"\n",
    "\n",
    "# (a)\n",
    "myray>0\n",
    "\n",
    "# (b)\n",
    "mask=myray>0\n",
    "myray[mask]\n",
    "#or myray[myray>0]\n"
   ]
  },
  {
   "cell_type": "markdown",
   "id": "ef0d2b1b-8ca9-4252-8221-7a6c0abb2547",
   "metadata": {},
   "source": [
    "What you just learned about masking and filtering can be done with dataframes!"
   ]
  },
  {
   "cell_type": "markdown",
   "id": "8e6bf829-8ba4-4cd3-84c1-8c13b33a04f2",
   "metadata": {},
   "source": [
    "## The main event - Pandas\n",
    "\n",
    "Vocab\n",
    "- series\n",
    "- index \n",
    "- dataframe\n",
    "- columns and names\n",
    "- rows and index \n",
    "- multiindex "
   ]
  },
  {
   "cell_type": "code",
   "execution_count": 9,
   "id": "f6515f43-5109-4a96-bee9-e65ec3541157",
   "metadata": {},
   "outputs": [],
   "source": [
    "start = datetime.datetime(2017, 1, 1) # you can specify start and end dates this way\n",
    "end = datetime.datetime(2021, 1, 27)\n",
    "macro_df = pdr.data.DataReader(['GDP','CPIAUCSL','UNRATE'], 'fred', start, end)\n"
   ]
  },
  {
   "cell_type": "code",
   "execution_count": 10,
   "id": "6c729373-a0ef-4e12-8987-4d8a2cfe836f",
   "metadata": {},
   "outputs": [
    {
     "data": {
      "text/html": [
       "<div>\n",
       "<style scoped>\n",
       "    .dataframe tbody tr th:only-of-type {\n",
       "        vertical-align: middle;\n",
       "    }\n",
       "\n",
       "    .dataframe tbody tr th {\n",
       "        vertical-align: top;\n",
       "    }\n",
       "\n",
       "    .dataframe thead th {\n",
       "        text-align: right;\n",
       "    }\n",
       "</style>\n",
       "<table border=\"1\" class=\"dataframe\">\n",
       "  <thead>\n",
       "    <tr style=\"text-align: right;\">\n",
       "      <th></th>\n",
       "      <th>GDP</th>\n",
       "      <th>CPIAUCSL</th>\n",
       "      <th>UNRATE</th>\n",
       "    </tr>\n",
       "    <tr>\n",
       "      <th>DATE</th>\n",
       "      <th></th>\n",
       "      <th></th>\n",
       "      <th></th>\n",
       "    </tr>\n",
       "  </thead>\n",
       "  <tbody>\n",
       "    <tr>\n",
       "      <th>2017-01-01</th>\n",
       "      <td>19153.912</td>\n",
       "      <td>243.620</td>\n",
       "      <td>4.7</td>\n",
       "    </tr>\n",
       "    <tr>\n",
       "      <th>2017-02-01</th>\n",
       "      <td>NaN</td>\n",
       "      <td>243.872</td>\n",
       "      <td>4.6</td>\n",
       "    </tr>\n",
       "    <tr>\n",
       "      <th>2017-03-01</th>\n",
       "      <td>NaN</td>\n",
       "      <td>243.766</td>\n",
       "      <td>4.4</td>\n",
       "    </tr>\n",
       "    <tr>\n",
       "      <th>2017-04-01</th>\n",
       "      <td>19322.920</td>\n",
       "      <td>244.274</td>\n",
       "      <td>4.4</td>\n",
       "    </tr>\n",
       "    <tr>\n",
       "      <th>2017-05-01</th>\n",
       "      <td>NaN</td>\n",
       "      <td>244.069</td>\n",
       "      <td>4.4</td>\n",
       "    </tr>\n",
       "    <tr>\n",
       "      <th>...</th>\n",
       "      <td>...</td>\n",
       "      <td>...</td>\n",
       "      <td>...</td>\n",
       "    </tr>\n",
       "    <tr>\n",
       "      <th>2020-09-01</th>\n",
       "      <td>NaN</td>\n",
       "      <td>260.149</td>\n",
       "      <td>7.9</td>\n",
       "    </tr>\n",
       "    <tr>\n",
       "      <th>2020-10-01</th>\n",
       "      <td>21477.597</td>\n",
       "      <td>260.462</td>\n",
       "      <td>6.9</td>\n",
       "    </tr>\n",
       "    <tr>\n",
       "      <th>2020-11-01</th>\n",
       "      <td>NaN</td>\n",
       "      <td>260.927</td>\n",
       "      <td>6.7</td>\n",
       "    </tr>\n",
       "    <tr>\n",
       "      <th>2020-12-01</th>\n",
       "      <td>NaN</td>\n",
       "      <td>261.560</td>\n",
       "      <td>6.7</td>\n",
       "    </tr>\n",
       "    <tr>\n",
       "      <th>2021-01-01</th>\n",
       "      <td>22038.226</td>\n",
       "      <td>262.231</td>\n",
       "      <td>6.4</td>\n",
       "    </tr>\n",
       "  </tbody>\n",
       "</table>\n",
       "<p>49 rows × 3 columns</p>\n",
       "</div>"
      ],
      "text/plain": [
       "                  GDP  CPIAUCSL  UNRATE\n",
       "DATE                                   \n",
       "2017-01-01  19153.912   243.620     4.7\n",
       "2017-02-01        NaN   243.872     4.6\n",
       "2017-03-01        NaN   243.766     4.4\n",
       "2017-04-01  19322.920   244.274     4.4\n",
       "2017-05-01        NaN   244.069     4.4\n",
       "...               ...       ...     ...\n",
       "2020-09-01        NaN   260.149     7.9\n",
       "2020-10-01  21477.597   260.462     6.9\n",
       "2020-11-01        NaN   260.927     6.7\n",
       "2020-12-01        NaN   261.560     6.7\n",
       "2021-01-01  22038.226   262.231     6.4\n",
       "\n",
       "[49 rows x 3 columns]"
      ]
     },
     "execution_count": 10,
     "metadata": {},
     "output_type": "execute_result"
    }
   ],
   "source": [
    "# preview the dataframe\n",
    "macro_df"
   ]
  },
  {
   "cell_type": "code",
   "execution_count": 11,
   "id": "6a0578ad-9869-4991-a79c-e1d6081600a8",
   "metadata": {},
   "outputs": [
    {
     "data": {
      "text/plain": [
       "(49, 3)"
      ]
     },
     "execution_count": 11,
     "metadata": {},
     "output_type": "execute_result"
    }
   ],
   "source": [
    "# shape\n",
    "macro_df.shape #no pattern, bc sahpe is attrobute, not method"
   ]
  },
  {
   "cell_type": "code",
   "execution_count": 12,
   "id": "c6964b7b-5a3d-45d4-981f-28ff45f518a6",
   "metadata": {},
   "outputs": [
    {
     "name": "stdout",
     "output_type": "stream",
     "text": [
      "<class 'pandas.core.frame.DataFrame'>\n",
      "DatetimeIndex: 49 entries, 2017-01-01 to 2021-01-01\n",
      "Freq: MS\n",
      "Data columns (total 3 columns):\n",
      " #   Column    Non-Null Count  Dtype  \n",
      "---  ------    --------------  -----  \n",
      " 0   GDP       17 non-null     float64\n",
      " 1   CPIAUCSL  49 non-null     float64\n",
      " 2   UNRATE    49 non-null     float64\n",
      "dtypes: float64(3)\n",
      "memory usage: 1.5 KB\n"
     ]
    }
   ],
   "source": [
    "# variable types\n",
    "macro_df.info()"
   ]
  },
  {
   "cell_type": "code",
   "execution_count": 14,
   "id": "c2a16499-5810-4921-bbc8-f1d96f383a9e",
   "metadata": {},
   "outputs": [
    {
     "data": {
      "text/html": [
       "<div>\n",
       "<style scoped>\n",
       "    .dataframe tbody tr th:only-of-type {\n",
       "        vertical-align: middle;\n",
       "    }\n",
       "\n",
       "    .dataframe tbody tr th {\n",
       "        vertical-align: top;\n",
       "    }\n",
       "\n",
       "    .dataframe thead th {\n",
       "        text-align: right;\n",
       "    }\n",
       "</style>\n",
       "<table border=\"1\" class=\"dataframe\">\n",
       "  <thead>\n",
       "    <tr style=\"text-align: right;\">\n",
       "      <th></th>\n",
       "      <th>GDP</th>\n",
       "      <th>CPIAUCSL</th>\n",
       "      <th>UNRATE</th>\n",
       "    </tr>\n",
       "    <tr>\n",
       "      <th>DATE</th>\n",
       "      <th></th>\n",
       "      <th></th>\n",
       "      <th></th>\n",
       "    </tr>\n",
       "  </thead>\n",
       "  <tbody>\n",
       "    <tr>\n",
       "      <th>2017-01-01</th>\n",
       "      <td>19153.912</td>\n",
       "      <td>243.620</td>\n",
       "      <td>4.7</td>\n",
       "    </tr>\n",
       "    <tr>\n",
       "      <th>2017-02-01</th>\n",
       "      <td>NaN</td>\n",
       "      <td>243.872</td>\n",
       "      <td>4.6</td>\n",
       "    </tr>\n",
       "    <tr>\n",
       "      <th>2017-03-01</th>\n",
       "      <td>NaN</td>\n",
       "      <td>243.766</td>\n",
       "      <td>4.4</td>\n",
       "    </tr>\n",
       "    <tr>\n",
       "      <th>2017-04-01</th>\n",
       "      <td>19322.920</td>\n",
       "      <td>244.274</td>\n",
       "      <td>4.4</td>\n",
       "    </tr>\n",
       "    <tr>\n",
       "      <th>2017-05-01</th>\n",
       "      <td>NaN</td>\n",
       "      <td>244.069</td>\n",
       "      <td>4.4</td>\n",
       "    </tr>\n",
       "  </tbody>\n",
       "</table>\n",
       "</div>"
      ],
      "text/plain": [
       "                  GDP  CPIAUCSL  UNRATE\n",
       "DATE                                   \n",
       "2017-01-01  19153.912   243.620     4.7\n",
       "2017-02-01        NaN   243.872     4.6\n",
       "2017-03-01        NaN   243.766     4.4\n",
       "2017-04-01  19322.920   244.274     4.4\n",
       "2017-05-01        NaN   244.069     4.4"
      ]
     },
     "execution_count": 14,
     "metadata": {},
     "output_type": "execute_result"
    }
   ],
   "source": [
    "# look at top X rows\n",
    "macro_df.head()"
   ]
  },
  {
   "cell_type": "code",
   "execution_count": 15,
   "id": "229d83f8-d100-4f31-8562-c403e988cef0",
   "metadata": {},
   "outputs": [
    {
     "data": {
      "text/html": [
       "<div>\n",
       "<style scoped>\n",
       "    .dataframe tbody tr th:only-of-type {\n",
       "        vertical-align: middle;\n",
       "    }\n",
       "\n",
       "    .dataframe tbody tr th {\n",
       "        vertical-align: top;\n",
       "    }\n",
       "\n",
       "    .dataframe thead th {\n",
       "        text-align: right;\n",
       "    }\n",
       "</style>\n",
       "<table border=\"1\" class=\"dataframe\">\n",
       "  <thead>\n",
       "    <tr style=\"text-align: right;\">\n",
       "      <th></th>\n",
       "      <th>GDP</th>\n",
       "      <th>CPIAUCSL</th>\n",
       "      <th>UNRATE</th>\n",
       "    </tr>\n",
       "    <tr>\n",
       "      <th>DATE</th>\n",
       "      <th></th>\n",
       "      <th></th>\n",
       "      <th></th>\n",
       "    </tr>\n",
       "  </thead>\n",
       "  <tbody>\n",
       "    <tr>\n",
       "      <th>2020-09-01</th>\n",
       "      <td>NaN</td>\n",
       "      <td>260.149</td>\n",
       "      <td>7.9</td>\n",
       "    </tr>\n",
       "    <tr>\n",
       "      <th>2020-10-01</th>\n",
       "      <td>21477.597</td>\n",
       "      <td>260.462</td>\n",
       "      <td>6.9</td>\n",
       "    </tr>\n",
       "    <tr>\n",
       "      <th>2020-11-01</th>\n",
       "      <td>NaN</td>\n",
       "      <td>260.927</td>\n",
       "      <td>6.7</td>\n",
       "    </tr>\n",
       "    <tr>\n",
       "      <th>2020-12-01</th>\n",
       "      <td>NaN</td>\n",
       "      <td>261.560</td>\n",
       "      <td>6.7</td>\n",
       "    </tr>\n",
       "    <tr>\n",
       "      <th>2021-01-01</th>\n",
       "      <td>22038.226</td>\n",
       "      <td>262.231</td>\n",
       "      <td>6.4</td>\n",
       "    </tr>\n",
       "  </tbody>\n",
       "</table>\n",
       "</div>"
      ],
      "text/plain": [
       "                  GDP  CPIAUCSL  UNRATE\n",
       "DATE                                   \n",
       "2020-09-01        NaN   260.149     7.9\n",
       "2020-10-01  21477.597   260.462     6.9\n",
       "2020-11-01        NaN   260.927     6.7\n",
       "2020-12-01        NaN   261.560     6.7\n",
       "2021-01-01  22038.226   262.231     6.4"
      ]
     },
     "execution_count": 15,
     "metadata": {},
     "output_type": "execute_result"
    }
   ],
   "source": [
    "# look at bottom X rows\n",
    "macro_df.tail()"
   ]
  },
  {
   "cell_type": "code",
   "execution_count": 19,
   "id": "4346813f-c4f8-4633-831f-12d8cff896dc",
   "metadata": {},
   "outputs": [
    {
     "data": {
      "text/plain": [
       "DATE\n",
       "2017-01-01    19158.612\n",
       "2017-02-01          NaN\n",
       "2017-03-01          NaN\n",
       "2017-04-01    19327.320\n",
       "2017-05-01          NaN\n",
       "                ...    \n",
       "2020-09-01          NaN\n",
       "2020-10-01    21484.497\n",
       "2020-11-01          NaN\n",
       "2020-12-01          NaN\n",
       "2021-01-01    22044.626\n",
       "Freq: MS, Length: 49, dtype: float64"
      ]
     },
     "execution_count": 19,
     "metadata": {},
     "output_type": "execute_result"
    }
   ],
   "source": [
    "# grab one variable\n",
    "macro_df['GDP']#bracket, string var name\n",
    "macro_df['GDP'] + macro_df['UNRATE']"
   ]
  },
  {
   "cell_type": "code",
   "execution_count": 26,
   "id": "8a0310ef-56be-4243-8457-dd900b324f65",
   "metadata": {},
   "outputs": [
    {
     "data": {
      "text/html": [
       "<div>\n",
       "<style scoped>\n",
       "    .dataframe tbody tr th:only-of-type {\n",
       "        vertical-align: middle;\n",
       "    }\n",
       "\n",
       "    .dataframe tbody tr th {\n",
       "        vertical-align: top;\n",
       "    }\n",
       "\n",
       "    .dataframe thead th {\n",
       "        text-align: right;\n",
       "    }\n",
       "</style>\n",
       "<table border=\"1\" class=\"dataframe\">\n",
       "  <thead>\n",
       "    <tr style=\"text-align: right;\">\n",
       "      <th></th>\n",
       "      <th>GDP</th>\n",
       "      <th>UNRATE</th>\n",
       "    </tr>\n",
       "    <tr>\n",
       "      <th>DATE</th>\n",
       "      <th></th>\n",
       "      <th></th>\n",
       "    </tr>\n",
       "  </thead>\n",
       "  <tbody>\n",
       "    <tr>\n",
       "      <th>2017-01-01</th>\n",
       "      <td>19153.912</td>\n",
       "      <td>4.7</td>\n",
       "    </tr>\n",
       "    <tr>\n",
       "      <th>2017-02-01</th>\n",
       "      <td>NaN</td>\n",
       "      <td>4.6</td>\n",
       "    </tr>\n",
       "    <tr>\n",
       "      <th>2017-03-01</th>\n",
       "      <td>NaN</td>\n",
       "      <td>4.4</td>\n",
       "    </tr>\n",
       "    <tr>\n",
       "      <th>2017-04-01</th>\n",
       "      <td>19322.920</td>\n",
       "      <td>4.4</td>\n",
       "    </tr>\n",
       "    <tr>\n",
       "      <th>2017-05-01</th>\n",
       "      <td>NaN</td>\n",
       "      <td>4.4</td>\n",
       "    </tr>\n",
       "    <tr>\n",
       "      <th>...</th>\n",
       "      <td>...</td>\n",
       "      <td>...</td>\n",
       "    </tr>\n",
       "    <tr>\n",
       "      <th>2020-09-01</th>\n",
       "      <td>NaN</td>\n",
       "      <td>7.9</td>\n",
       "    </tr>\n",
       "    <tr>\n",
       "      <th>2020-10-01</th>\n",
       "      <td>21477.597</td>\n",
       "      <td>6.9</td>\n",
       "    </tr>\n",
       "    <tr>\n",
       "      <th>2020-11-01</th>\n",
       "      <td>NaN</td>\n",
       "      <td>6.7</td>\n",
       "    </tr>\n",
       "    <tr>\n",
       "      <th>2020-12-01</th>\n",
       "      <td>NaN</td>\n",
       "      <td>6.7</td>\n",
       "    </tr>\n",
       "    <tr>\n",
       "      <th>2021-01-01</th>\n",
       "      <td>22038.226</td>\n",
       "      <td>6.4</td>\n",
       "    </tr>\n",
       "  </tbody>\n",
       "</table>\n",
       "<p>49 rows × 2 columns</p>\n",
       "</div>"
      ],
      "text/plain": [
       "                  GDP  UNRATE\n",
       "DATE                         \n",
       "2017-01-01  19153.912     4.7\n",
       "2017-02-01        NaN     4.6\n",
       "2017-03-01        NaN     4.4\n",
       "2017-04-01  19322.920     4.4\n",
       "2017-05-01        NaN     4.4\n",
       "...               ...     ...\n",
       "2020-09-01        NaN     7.9\n",
       "2020-10-01  21477.597     6.9\n",
       "2020-11-01        NaN     6.7\n",
       "2020-12-01        NaN     6.7\n",
       "2021-01-01  22038.226     6.4\n",
       "\n",
       "[49 rows x 2 columns]"
      ]
     },
     "execution_count": 26,
     "metadata": {},
     "output_type": "execute_result"
    }
   ],
   "source": [
    "# grab two (or more) variables\n",
    "macro_df[['GDP','UNRATE']]"
   ]
  },
  {
   "cell_type": "code",
   "execution_count": 22,
   "id": "004d9ef8-746f-4604-8a53-f1f671593489",
   "metadata": {},
   "outputs": [
    {
     "data": {
      "text/plain": [
       "Index(['GDP', 'CPIAUCSL', 'UNRATE'], dtype='object')"
      ]
     },
     "execution_count": 22,
     "metadata": {},
     "output_type": "execute_result"
    }
   ],
   "source": [
    "# see column names\n",
    "macro_df.columns"
   ]
  },
  {
   "cell_type": "code",
   "execution_count": 25,
   "id": "c1cc6e3c-a4e6-4fc9-90cd-16ad1f335daa",
   "metadata": {},
   "outputs": [
    {
     "data": {
      "text/plain": [
       "Index(['GDP', 'CPIAUCSL', 'UNRATE'], dtype='object')"
      ]
     },
     "execution_count": 25,
     "metadata": {},
     "output_type": "execute_result"
    }
   ],
   "source": [
    "# change column names\n",
    "macro_df.columns=['G','C','U']\n",
    "macro_df.columns\n",
    "\n",
    "macro_df.columns=['GDP', 'CPIAUCSL', 'UNRATE']\n",
    "macro_df.columns"
   ]
  },
  {
   "cell_type": "code",
   "execution_count": 35,
   "id": "686b664f-2e4b-48af-8793-1074f20beaf4",
   "metadata": {},
   "outputs": [
    {
     "data": {
      "text/plain": [
       "RangeIndex(start=0, stop=49, step=1)"
      ]
     },
     "execution_count": 35,
     "metadata": {},
     "output_type": "execute_result"
    }
   ],
   "source": [
    "# see index\n",
    "macro_df.index"
   ]
  },
  {
   "cell_type": "code",
   "execution_count": 27,
   "id": "df9dd526-aa85-451b-afe7-ae8e914d05fa",
   "metadata": {},
   "outputs": [
    {
     "data": {
      "text/html": [
       "<div>\n",
       "<style scoped>\n",
       "    .dataframe tbody tr th:only-of-type {\n",
       "        vertical-align: middle;\n",
       "    }\n",
       "\n",
       "    .dataframe tbody tr th {\n",
       "        vertical-align: top;\n",
       "    }\n",
       "\n",
       "    .dataframe thead th {\n",
       "        text-align: right;\n",
       "    }\n",
       "</style>\n",
       "<table border=\"1\" class=\"dataframe\">\n",
       "  <thead>\n",
       "    <tr style=\"text-align: right;\">\n",
       "      <th></th>\n",
       "      <th>DATE</th>\n",
       "      <th>GDP</th>\n",
       "      <th>CPIAUCSL</th>\n",
       "      <th>UNRATE</th>\n",
       "    </tr>\n",
       "  </thead>\n",
       "  <tbody>\n",
       "    <tr>\n",
       "      <th>0</th>\n",
       "      <td>2017-01-01</td>\n",
       "      <td>19153.912</td>\n",
       "      <td>243.620</td>\n",
       "      <td>4.7</td>\n",
       "    </tr>\n",
       "    <tr>\n",
       "      <th>1</th>\n",
       "      <td>2017-02-01</td>\n",
       "      <td>NaN</td>\n",
       "      <td>243.872</td>\n",
       "      <td>4.6</td>\n",
       "    </tr>\n",
       "    <tr>\n",
       "      <th>2</th>\n",
       "      <td>2017-03-01</td>\n",
       "      <td>NaN</td>\n",
       "      <td>243.766</td>\n",
       "      <td>4.4</td>\n",
       "    </tr>\n",
       "    <tr>\n",
       "      <th>3</th>\n",
       "      <td>2017-04-01</td>\n",
       "      <td>19322.920</td>\n",
       "      <td>244.274</td>\n",
       "      <td>4.4</td>\n",
       "    </tr>\n",
       "    <tr>\n",
       "      <th>4</th>\n",
       "      <td>2017-05-01</td>\n",
       "      <td>NaN</td>\n",
       "      <td>244.069</td>\n",
       "      <td>4.4</td>\n",
       "    </tr>\n",
       "    <tr>\n",
       "      <th>...</th>\n",
       "      <td>...</td>\n",
       "      <td>...</td>\n",
       "      <td>...</td>\n",
       "      <td>...</td>\n",
       "    </tr>\n",
       "    <tr>\n",
       "      <th>44</th>\n",
       "      <td>2020-09-01</td>\n",
       "      <td>NaN</td>\n",
       "      <td>260.149</td>\n",
       "      <td>7.9</td>\n",
       "    </tr>\n",
       "    <tr>\n",
       "      <th>45</th>\n",
       "      <td>2020-10-01</td>\n",
       "      <td>21477.597</td>\n",
       "      <td>260.462</td>\n",
       "      <td>6.9</td>\n",
       "    </tr>\n",
       "    <tr>\n",
       "      <th>46</th>\n",
       "      <td>2020-11-01</td>\n",
       "      <td>NaN</td>\n",
       "      <td>260.927</td>\n",
       "      <td>6.7</td>\n",
       "    </tr>\n",
       "    <tr>\n",
       "      <th>47</th>\n",
       "      <td>2020-12-01</td>\n",
       "      <td>NaN</td>\n",
       "      <td>261.560</td>\n",
       "      <td>6.7</td>\n",
       "    </tr>\n",
       "    <tr>\n",
       "      <th>48</th>\n",
       "      <td>2021-01-01</td>\n",
       "      <td>22038.226</td>\n",
       "      <td>262.231</td>\n",
       "      <td>6.4</td>\n",
       "    </tr>\n",
       "  </tbody>\n",
       "</table>\n",
       "<p>49 rows × 4 columns</p>\n",
       "</div>"
      ],
      "text/plain": [
       "         DATE        GDP  CPIAUCSL  UNRATE\n",
       "0  2017-01-01  19153.912   243.620     4.7\n",
       "1  2017-02-01        NaN   243.872     4.6\n",
       "2  2017-03-01        NaN   243.766     4.4\n",
       "3  2017-04-01  19322.920   244.274     4.4\n",
       "4  2017-05-01        NaN   244.069     4.4\n",
       "..        ...        ...       ...     ...\n",
       "44 2020-09-01        NaN   260.149     7.9\n",
       "45 2020-10-01  21477.597   260.462     6.9\n",
       "46 2020-11-01        NaN   260.927     6.7\n",
       "47 2020-12-01        NaN   261.560     6.7\n",
       "48 2021-01-01  22038.226   262.231     6.4\n",
       "\n",
       "[49 rows x 4 columns]"
      ]
     },
     "execution_count": 27,
     "metadata": {},
     "output_type": "execute_result"
    }
   ],
   "source": [
    "# reset_index() and set_index()\n",
    "macro_df=macro_df.reset_index() # tuens index into var, \"macro=\" makes it permantnet \n",
    "macro_df"
   ]
  },
  {
   "cell_type": "code",
   "execution_count": 28,
   "id": "13d785d8-9e41-4ec4-abbe-e7cca94272d1",
   "metadata": {},
   "outputs": [
    {
     "data": {
      "text/html": [
       "<div>\n",
       "<style scoped>\n",
       "    .dataframe tbody tr th:only-of-type {\n",
       "        vertical-align: middle;\n",
       "    }\n",
       "\n",
       "    .dataframe tbody tr th {\n",
       "        vertical-align: top;\n",
       "    }\n",
       "\n",
       "    .dataframe thead th {\n",
       "        text-align: right;\n",
       "    }\n",
       "</style>\n",
       "<table border=\"1\" class=\"dataframe\">\n",
       "  <thead>\n",
       "    <tr style=\"text-align: right;\">\n",
       "      <th></th>\n",
       "      <th>DATE</th>\n",
       "      <th>GDP</th>\n",
       "      <th>CPIAUCSL</th>\n",
       "      <th>UNRATE</th>\n",
       "    </tr>\n",
       "  </thead>\n",
       "  <tbody>\n",
       "    <tr>\n",
       "      <th>4</th>\n",
       "      <td>2017-05-01</td>\n",
       "      <td>NaN</td>\n",
       "      <td>244.069</td>\n",
       "      <td>4.4</td>\n",
       "    </tr>\n",
       "    <tr>\n",
       "      <th>5</th>\n",
       "      <td>2017-06-01</td>\n",
       "      <td>NaN</td>\n",
       "      <td>244.218</td>\n",
       "      <td>4.3</td>\n",
       "    </tr>\n",
       "    <tr>\n",
       "      <th>6</th>\n",
       "      <td>2017-07-01</td>\n",
       "      <td>19558.693</td>\n",
       "      <td>244.280</td>\n",
       "      <td>4.3</td>\n",
       "    </tr>\n",
       "    <tr>\n",
       "      <th>7</th>\n",
       "      <td>2017-08-01</td>\n",
       "      <td>NaN</td>\n",
       "      <td>245.205</td>\n",
       "      <td>4.4</td>\n",
       "    </tr>\n",
       "  </tbody>\n",
       "</table>\n",
       "</div>"
      ],
      "text/plain": [
       "        DATE        GDP  CPIAUCSL  UNRATE\n",
       "4 2017-05-01        NaN   244.069     4.4\n",
       "5 2017-06-01        NaN   244.218     4.3\n",
       "6 2017-07-01  19558.693   244.280     4.3\n",
       "7 2017-08-01        NaN   245.205     4.4"
      ]
     },
     "execution_count": 28,
     "metadata": {},
     "output_type": "execute_result"
    }
   ],
   "source": [
    "# grab some rows (by position)\n",
    "macro_df[4:8]"
   ]
  },
  {
   "cell_type": "code",
   "execution_count": null,
   "id": "9b0c52b0-535d-4411-bb3e-fd65117e79a8",
   "metadata": {},
   "outputs": [],
   "source": [
    "# grab some rows (by value)\n"
   ]
  },
  {
   "cell_type": "code",
   "execution_count": 34,
   "id": "78146ae9-7ac4-43a2-9734-035ba008a572",
   "metadata": {},
   "outputs": [
    {
     "data": {
      "text/html": [
       "<div>\n",
       "<style scoped>\n",
       "    .dataframe tbody tr th:only-of-type {\n",
       "        vertical-align: middle;\n",
       "    }\n",
       "\n",
       "    .dataframe tbody tr th {\n",
       "        vertical-align: top;\n",
       "    }\n",
       "\n",
       "    .dataframe thead th {\n",
       "        text-align: right;\n",
       "    }\n",
       "</style>\n",
       "<table border=\"1\" class=\"dataframe\">\n",
       "  <thead>\n",
       "    <tr style=\"text-align: right;\">\n",
       "      <th></th>\n",
       "      <th>DATE</th>\n",
       "      <th>GDP</th>\n",
       "      <th>CPIAUCSL</th>\n",
       "      <th>UNRATE</th>\n",
       "      <th>HIGH</th>\n",
       "      <th>low</th>\n",
       "    </tr>\n",
       "  </thead>\n",
       "  <tbody>\n",
       "    <tr>\n",
       "      <th>0</th>\n",
       "      <td>2017-01-01</td>\n",
       "      <td>19153.912</td>\n",
       "      <td>243.620</td>\n",
       "      <td>4.7</td>\n",
       "      <td>False</td>\n",
       "      <td>False</td>\n",
       "    </tr>\n",
       "    <tr>\n",
       "      <th>1</th>\n",
       "      <td>2017-02-01</td>\n",
       "      <td>NaN</td>\n",
       "      <td>243.872</td>\n",
       "      <td>4.6</td>\n",
       "      <td>False</td>\n",
       "      <td>False</td>\n",
       "    </tr>\n",
       "    <tr>\n",
       "      <th>2</th>\n",
       "      <td>2017-03-01</td>\n",
       "      <td>NaN</td>\n",
       "      <td>243.766</td>\n",
       "      <td>4.4</td>\n",
       "      <td>False</td>\n",
       "      <td>False</td>\n",
       "    </tr>\n",
       "    <tr>\n",
       "      <th>3</th>\n",
       "      <td>2017-04-01</td>\n",
       "      <td>19322.920</td>\n",
       "      <td>244.274</td>\n",
       "      <td>4.4</td>\n",
       "      <td>False</td>\n",
       "      <td>False</td>\n",
       "    </tr>\n",
       "    <tr>\n",
       "      <th>4</th>\n",
       "      <td>2017-05-01</td>\n",
       "      <td>NaN</td>\n",
       "      <td>244.069</td>\n",
       "      <td>4.4</td>\n",
       "      <td>False</td>\n",
       "      <td>False</td>\n",
       "    </tr>\n",
       "    <tr>\n",
       "      <th>...</th>\n",
       "      <td>...</td>\n",
       "      <td>...</td>\n",
       "      <td>...</td>\n",
       "      <td>...</td>\n",
       "      <td>...</td>\n",
       "      <td>...</td>\n",
       "    </tr>\n",
       "    <tr>\n",
       "      <th>44</th>\n",
       "      <td>2020-09-01</td>\n",
       "      <td>NaN</td>\n",
       "      <td>260.149</td>\n",
       "      <td>7.9</td>\n",
       "      <td>True</td>\n",
       "      <td>False</td>\n",
       "    </tr>\n",
       "    <tr>\n",
       "      <th>45</th>\n",
       "      <td>2020-10-01</td>\n",
       "      <td>21477.597</td>\n",
       "      <td>260.462</td>\n",
       "      <td>6.9</td>\n",
       "      <td>True</td>\n",
       "      <td>False</td>\n",
       "    </tr>\n",
       "    <tr>\n",
       "      <th>46</th>\n",
       "      <td>2020-11-01</td>\n",
       "      <td>NaN</td>\n",
       "      <td>260.927</td>\n",
       "      <td>6.7</td>\n",
       "      <td>True</td>\n",
       "      <td>False</td>\n",
       "    </tr>\n",
       "    <tr>\n",
       "      <th>47</th>\n",
       "      <td>2020-12-01</td>\n",
       "      <td>NaN</td>\n",
       "      <td>261.560</td>\n",
       "      <td>6.7</td>\n",
       "      <td>True</td>\n",
       "      <td>False</td>\n",
       "    </tr>\n",
       "    <tr>\n",
       "      <th>48</th>\n",
       "      <td>2021-01-01</td>\n",
       "      <td>22038.226</td>\n",
       "      <td>262.231</td>\n",
       "      <td>6.4</td>\n",
       "      <td>True</td>\n",
       "      <td>False</td>\n",
       "    </tr>\n",
       "  </tbody>\n",
       "</table>\n",
       "<p>49 rows × 6 columns</p>\n",
       "</div>"
      ],
      "text/plain": [
       "         DATE        GDP  CPIAUCSL  UNRATE   HIGH    low\n",
       "0  2017-01-01  19153.912   243.620     4.7  False  False\n",
       "1  2017-02-01        NaN   243.872     4.6  False  False\n",
       "2  2017-03-01        NaN   243.766     4.4  False  False\n",
       "3  2017-04-01  19322.920   244.274     4.4  False  False\n",
       "4  2017-05-01        NaN   244.069     4.4  False  False\n",
       "..        ...        ...       ...     ...    ...    ...\n",
       "44 2020-09-01        NaN   260.149     7.9   True  False\n",
       "45 2020-10-01  21477.597   260.462     6.9   True  False\n",
       "46 2020-11-01        NaN   260.927     6.7   True  False\n",
       "47 2020-12-01        NaN   261.560     6.7   True  False\n",
       "48 2021-01-01  22038.226   262.231     6.4   True  False\n",
       "\n",
       "[49 rows x 6 columns]"
      ]
     },
     "execution_count": 34,
     "metadata": {},
     "output_type": "execute_result"
    }
   ],
   "source": [
    "# create a variable\n",
    "# (2 ways)\n",
    "macro_df['HIGH'] = macro_df['UNRATE']>6\n",
    "macro_df=macro_df.assign(low= macro_df['UNRATE']<4)\n",
    "macro_df\n"
   ]
  },
  {
   "cell_type": "markdown",
   "id": "8971d324-a0b9-4afe-9b8b-db12f2682c5b",
   "metadata": {},
   "source": [
    "## EDA\n",
    "\n",
    "Stop here. Back to the lecture. \n",
    "\n",
    "### Part 1\n",
    "\n",
    "Q0: Do each of the [EDA golden rules for initial data exploration](https://ledatascifi.github.io/ledatascifi-2022/content/03/02e_eda_golden.html) and write down your observations.\n",
    "- **Important: What is the \"key\" or \"unit level\" that observations in this database describes?** \n",
    "    - This is defined in 3.2.5 and discussed in [3.2.2.2 via example](https://ledatascifi.github.io/ledatascifi-2022/content/03/02b_pandasVocab.html#the-shape-of-data)\n",
    "    - The \"key\" levels in databases we will look at are often increments of time in the data, the type of entity describe (e.g. firm, person, state, country, industry), and combinations of entity and time. \n",
    "    - E.g. \"firm\" level, \"firm-year\" level"
   ]
  },
  {
   "cell_type": "code",
   "execution_count": 60,
   "id": "f797797c-ed10-49fd-b7cd-24c0f09f3fbb",
   "metadata": {},
   "outputs": [
    {
     "name": "stdout",
     "output_type": "stream",
     "text": [
      "<class 'pandas.core.frame.DataFrame'>\n",
      "RangeIndex: 49 entries, 0 to 48\n",
      "Data columns (total 6 columns):\n",
      " #   Column    Non-Null Count  Dtype         \n",
      "---  ------    --------------  -----         \n",
      " 0   DATE      49 non-null     datetime64[ns]\n",
      " 1   GDP       17 non-null     float64       \n",
      " 2   CPIAUCSL  49 non-null     float64       \n",
      " 3   UNRATE    49 non-null     float64       \n",
      " 4   HIGH      49 non-null     bool          \n",
      " 5   low       49 non-null     bool          \n",
      "dtypes: bool(2), datetime64[ns](1), float64(3)\n",
      "memory usage: 1.8 KB\n"
     ]
    },
    {
     "data": {
      "text/html": [
       "<div>\n",
       "<style scoped>\n",
       "    .dataframe tbody tr th:only-of-type {\n",
       "        vertical-align: middle;\n",
       "    }\n",
       "\n",
       "    .dataframe tbody tr th {\n",
       "        vertical-align: top;\n",
       "    }\n",
       "\n",
       "    .dataframe thead th {\n",
       "        text-align: right;\n",
       "    }\n",
       "</style>\n",
       "<table border=\"1\" class=\"dataframe\">\n",
       "  <thead>\n",
       "    <tr style=\"text-align: right;\">\n",
       "      <th></th>\n",
       "      <th>GDP</th>\n",
       "      <th>CPIAUCSL</th>\n",
       "      <th>UNRATE</th>\n",
       "    </tr>\n",
       "  </thead>\n",
       "  <tbody>\n",
       "    <tr>\n",
       "      <th>count</th>\n",
       "      <td>17.000000</td>\n",
       "      <td>49.000000</td>\n",
       "      <td>49.000000</td>\n",
       "    </tr>\n",
       "    <tr>\n",
       "      <th>mean</th>\n",
       "      <td>20654.744824</td>\n",
       "      <td>252.878469</td>\n",
       "      <td>5.032653</td>\n",
       "    </tr>\n",
       "    <tr>\n",
       "      <th>std</th>\n",
       "      <td>913.690696</td>\n",
       "      <td>5.557894</td>\n",
       "      <td>2.508019</td>\n",
       "    </tr>\n",
       "    <tr>\n",
       "      <th>min</th>\n",
       "      <td>19153.912000</td>\n",
       "      <td>243.620000</td>\n",
       "      <td>3.500000</td>\n",
       "    </tr>\n",
       "    <tr>\n",
       "      <th>25%</th>\n",
       "      <td>19882.965000</td>\n",
       "      <td>248.721000</td>\n",
       "      <td>3.800000</td>\n",
       "    </tr>\n",
       "    <tr>\n",
       "      <th>50%</th>\n",
       "      <td>20813.325000</td>\n",
       "      <td>252.899000</td>\n",
       "      <td>4.000000</td>\n",
       "    </tr>\n",
       "    <tr>\n",
       "      <th>75%</th>\n",
       "      <td>21477.597000</td>\n",
       "      <td>257.387000</td>\n",
       "      <td>4.400000</td>\n",
       "    </tr>\n",
       "    <tr>\n",
       "      <th>max</th>\n",
       "      <td>22038.226000</td>\n",
       "      <td>262.231000</td>\n",
       "      <td>14.700000</td>\n",
       "    </tr>\n",
       "  </tbody>\n",
       "</table>\n",
       "</div>"
      ],
      "text/plain": [
       "                GDP    CPIAUCSL     UNRATE\n",
       "count     17.000000   49.000000  49.000000\n",
       "mean   20654.744824  252.878469   5.032653\n",
       "std      913.690696    5.557894   2.508019\n",
       "min    19153.912000  243.620000   3.500000\n",
       "25%    19882.965000  248.721000   3.800000\n",
       "50%    20813.325000  252.899000   4.000000\n",
       "75%    21477.597000  257.387000   4.400000\n",
       "max    22038.226000  262.231000  14.700000"
      ]
     },
     "execution_count": 60,
     "metadata": {},
     "output_type": "execute_result"
    }
   ],
   "source": [
    "macro_df.head()\n",
    "macro_df.tail()\n",
    "macro_df.shape\n",
    "macro_df.info()\n",
    "macro_df.describe()\n",
    "#macro_df['var'].value_counts().head(10)\n",
    "#macro_df['var'].nunique()\n"
   ]
  },
  {
   "cell_type": "code",
   "execution_count": null,
   "id": "9ac6a692-1e34-4995-9459-83569ff1b630",
   "metadata": {},
   "outputs": [],
   "source": []
  },
  {
   "cell_type": "markdown",
   "id": "0b7d8f15-5efe-4143-88de-60412bdf7099",
   "metadata": {},
   "source": [
    "Q1: What is the second series above?"
   ]
  },
  {
   "cell_type": "markdown",
   "id": "50077f53-9a68-4c7f-8e22-f4677c39ca8e",
   "metadata": {},
   "source": [
    "CPIAUSCL is the consumer price index for all urban consumers. it is the measure of the average monthly prices paid for goods and services by urbans consumers."
   ]
  },
  {
   "cell_type": "markdown",
   "id": "c5111809-8bda-4db2-bdb3-2c967754af7b",
   "metadata": {},
   "source": [
    "Q2: What is the frequency of the series?"
   ]
  },
  {
   "cell_type": "markdown",
   "id": "efa464f9-3de5-4bc8-80b6-881a4091e79e",
   "metadata": {},
   "source": [
    "Monthly"
   ]
  },
  {
   "cell_type": "markdown",
   "id": "45e5ce05-a65d-4bd8-9c10-dd0fb6bdbe44",
   "metadata": {},
   "source": [
    "Q3: What is the average ANNUAL GDP, based on the data?"
   ]
  },
  {
   "cell_type": "code",
   "execution_count": 61,
   "id": "ae0c5b8d-a450-4e15-a85a-f2b177e73fae",
   "metadata": {},
   "outputs": [
    {
     "data": {
      "text/html": [
       "<div>\n",
       "<style scoped>\n",
       "    .dataframe tbody tr th:only-of-type {\n",
       "        vertical-align: middle;\n",
       "    }\n",
       "\n",
       "    .dataframe tbody tr th {\n",
       "        vertical-align: top;\n",
       "    }\n",
       "\n",
       "    .dataframe thead th {\n",
       "        text-align: right;\n",
       "    }\n",
       "</style>\n",
       "<table border=\"1\" class=\"dataframe\">\n",
       "  <thead>\n",
       "    <tr style=\"text-align: right;\">\n",
       "      <th></th>\n",
       "      <th>CPIAUCSL</th>\n",
       "      <th>UNRATE</th>\n",
       "      <th>HIGH</th>\n",
       "      <th>low</th>\n",
       "    </tr>\n",
       "    <tr>\n",
       "      <th>GDP</th>\n",
       "      <th></th>\n",
       "      <th></th>\n",
       "      <th></th>\n",
       "      <th></th>\n",
       "    </tr>\n",
       "  </thead>\n",
       "  <tbody>\n",
       "    <tr>\n",
       "      <th>19153.912</th>\n",
       "      <td>243.620</td>\n",
       "      <td>4.7</td>\n",
       "      <td>False</td>\n",
       "      <td>False</td>\n",
       "    </tr>\n",
       "    <tr>\n",
       "      <th>19322.920</th>\n",
       "      <td>244.274</td>\n",
       "      <td>4.4</td>\n",
       "      <td>False</td>\n",
       "      <td>False</td>\n",
       "    </tr>\n",
       "    <tr>\n",
       "      <th>19477.444</th>\n",
       "      <td>256.192</td>\n",
       "      <td>14.7</td>\n",
       "      <td>True</td>\n",
       "      <td>False</td>\n",
       "    </tr>\n",
       "    <tr>\n",
       "      <th>19558.693</th>\n",
       "      <td>244.280</td>\n",
       "      <td>4.3</td>\n",
       "      <td>False</td>\n",
       "      <td>False</td>\n",
       "    </tr>\n",
       "    <tr>\n",
       "      <th>19882.965</th>\n",
       "      <td>246.657</td>\n",
       "      <td>4.2</td>\n",
       "      <td>False</td>\n",
       "      <td>False</td>\n",
       "    </tr>\n",
       "    <tr>\n",
       "      <th>...</th>\n",
       "      <td>...</td>\n",
       "      <td>...</td>\n",
       "      <td>...</td>\n",
       "      <td>...</td>\n",
       "    </tr>\n",
       "    <tr>\n",
       "      <th>21477.597</th>\n",
       "      <td>260.462</td>\n",
       "      <td>6.9</td>\n",
       "      <td>True</td>\n",
       "      <td>False</td>\n",
       "    </tr>\n",
       "    <tr>\n",
       "      <th>21481.367</th>\n",
       "      <td>258.687</td>\n",
       "      <td>3.5</td>\n",
       "      <td>False</td>\n",
       "      <td>True</td>\n",
       "    </tr>\n",
       "    <tr>\n",
       "      <th>21505.012</th>\n",
       "      <td>255.925</td>\n",
       "      <td>3.7</td>\n",
       "      <td>False</td>\n",
       "      <td>True</td>\n",
       "    </tr>\n",
       "    <tr>\n",
       "      <th>21694.458</th>\n",
       "      <td>257.387</td>\n",
       "      <td>3.6</td>\n",
       "      <td>False</td>\n",
       "      <td>True</td>\n",
       "    </tr>\n",
       "    <tr>\n",
       "      <th>22038.226</th>\n",
       "      <td>262.231</td>\n",
       "      <td>6.4</td>\n",
       "      <td>True</td>\n",
       "      <td>False</td>\n",
       "    </tr>\n",
       "  </tbody>\n",
       "</table>\n",
       "<p>17 rows × 4 columns</p>\n",
       "</div>"
      ],
      "text/plain": [
       "           CPIAUCSL  UNRATE   HIGH    low\n",
       "GDP                                      \n",
       "19153.912   243.620     4.7  False  False\n",
       "19322.920   244.274     4.4  False  False\n",
       "19477.444   256.192    14.7   True  False\n",
       "19558.693   244.280     4.3  False  False\n",
       "19882.965   246.657     4.2  False  False\n",
       "...             ...     ...    ...    ...\n",
       "21477.597   260.462     6.9   True  False\n",
       "21481.367   258.687     3.5  False   True\n",
       "21505.012   255.925     3.7  False   True\n",
       "21694.458   257.387     3.6  False   True\n",
       "22038.226   262.231     6.4   True  False\n",
       "\n",
       "[17 rows x 4 columns]"
      ]
     },
     "execution_count": 61,
     "metadata": {},
     "output_type": "execute_result"
    }
   ],
   "source": [
    "macro_df.groupby('GDP').mean()"
   ]
  },
  {
   "cell_type": "markdown",
   "id": "e40d09b3-5ef0-42a3-b07b-1a9bd4a46665",
   "metadata": {},
   "source": [
    "## Part 2\n",
    "\n",
    "Q4: Download the annual *real* gdp from 1960 to 2018 from FRED and compute the average annual percent change"
   ]
  },
  {
   "cell_type": "markdown",
   "id": "fa27fe66-0086-427b-858a-1da0ef225924",
   "metadata": {},
   "source": [
    "Q5: Compute the average gdp percent change within *each decade*\n"
   ]
  },
  {
   "cell_type": "markdown",
   "id": "58abde0a-757b-4b4c-a1bb-92bff3753dcd",
   "metadata": {},
   "source": [
    "## Part 3\n",
    "\n",
    "First, I'll load January data on unemployment, the Case-Shiller housing index, and median household income in three states (CA/MI/PA). "
   ]
  },
  {
   "cell_type": "code",
   "execution_count": null,
   "id": "74ef26a1-252a-4a32-baa3-d45be73c5852",
   "metadata": {},
   "outputs": [],
   "source": [
    "# do your work here\n",
    "\n",
    "# let's pseudo code\n",
    "\n",
    "# q6 \n",
    "# get decade variable\n",
    "# get annual change in unemploy for each state\n",
    "# average unemploy for each state within decade\n",
    "\n",
    "# q7\n",
    "# get decade variable\n",
    "# get annual pct change in house price and income for each state\n",
    "# average those for each state within decade\n",
    "\n",
    "# HEY! those are similar - let's combine q6 and q7:\n",
    "\n",
    "# get decade variable\n",
    "# get annual change in unemploy for each state\n",
    "# get annual pct change in house price and income for each state\n",
    "# average unemploy for each state within decade"
   ]
  },
  {
   "cell_type": "code",
   "execution_count": null,
   "id": "3195ec45-cd2b-49eb-a268-da7e5a9321ed",
   "metadata": {},
   "outputs": [],
   "source": [
    "# LOAD DATA AND CONVERT TO ANNUAL\n",
    "\n",
    "start = 1990 # pandas datareader can infer these are years\n",
    "end = 2018\n",
    "macro_data = pdr.data.DataReader(['CAUR','MIUR','PAUR', # unemployment \n",
    "                                  'LXXRSA','DEXRSA','WDXRSA', # case shiller index in LA, Detroit, DC (no PA  available!)\n",
    "                                  'MEHOINUSCAA672N','MEHOINUSMIA672N','MEHOINUSPAA672N'], #  \n",
    "                                 'fred', start, end)\n",
    "macro_data = macro_data.resample('Y').first() # get's the first observation for each variable in a given year\n",
    "\n",
    "# CLEAN UP THE FORMATING SOMEWHAT\n",
    "\n",
    "macro_data.index = macro_data.index.year\n",
    "print(\"\\n\\n DATA BEFORE FORMATTING: \\n\\n\")\n",
    "print(macro_data[:20]) # see how the data looks now? ugly variable names, but its an annual dataset at least\n",
    "macro_data.columns=pd.MultiIndex.from_tuples([\n",
    "    ('Unemployment','CA'),('Unemployment','MI'),('Unemployment','PA'),\n",
    "    ('HouseIdx','CA'),('HouseIdx','MI'),('HouseIdx','PA'),\n",
    "    ('MedIncome','CA'),('MedIncome','MI'),('MedIncome','PA')\n",
    "    ])\n",
    "print(\"\\n\\n DATA AFTER FORMATTING: \\n\\n\")\n",
    "print(macro_data[:20]) # this is a dataset that is \"wide\", and now \n",
    "                       # the column variable names have 2 levels - var name, \n",
    "                       # and unit/state that variable applies to\n"
   ]
  },
  {
   "cell_type": "markdown",
   "id": "c950bb19-3d2e-40eb-ab82-bc01ae43b8b1",
   "metadata": {},
   "source": [
    "Q6: for each decade and state, report the average annual CHANGE (level, not percent) in unemployment"
   ]
  },
  {
   "cell_type": "markdown",
   "id": "d2215c69-ecde-47da-9202-34f1231d8edb",
   "metadata": {},
   "source": [
    "Q7: for each decade and state, report the average annual PERCENT CHANGE in house prices and household income"
   ]
  }
 ],
 "metadata": {
  "kernelspec": {
   "display_name": "Python 3",
   "language": "python",
   "name": "python3"
  },
  "language_info": {
   "codemirror_mode": {
    "name": "ipython",
    "version": 3
   },
   "file_extension": ".py",
   "mimetype": "text/x-python",
   "name": "python",
   "nbconvert_exporter": "python",
   "pygments_lexer": "ipython3",
   "version": "3.8.8"
  }
 },
 "nbformat": 4,
 "nbformat_minor": 5
}
