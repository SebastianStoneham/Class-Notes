{
 "cells": [
  {
   "cell_type": "markdown",
   "metadata": {},
   "source": [
    "# Startup\n",
    "\n",
    "1. Don't forget to fetch your class notes repo AND the textbook repo. \n",
    "2. Copy these files from the textbook repo into your class notes/exercises folder:\n",
    "    -  `ledatascifi-2022/handouts/Python exercises.ipynb`\n",
    "    - `ledatascifi-2022/content/01/06_python.ipynb`\n",
    "3. Suggested: Open this exercise file on one side of your Jupyterlab screen and the two files above on the other side of your screen. \n"
   ]
  },
  {
   "cell_type": "code",
   "execution_count": null,
   "metadata": {},
   "outputs": [],
   "source": []
  },
  {
   "cell_type": "markdown",
   "metadata": {},
   "source": [
    "## As you solve the questions below:\n",
    "- use comments to take notes about code you're writing as you figure things out\n",
    "- take big picture notes in the module 1 notes file\n"
   ]
  },
  {
   "cell_type": "markdown",
   "metadata": {},
   "source": [
    "## Python essentials\n",
    "\n",
    "Loosely covers the [python essentials in 1.7.2](https://ledatascifi.github.io/ledatascifi-2022/content/01/06_python.html#python-essentials)"
   ]
  },
  {
   "cell_type": "code",
   "execution_count": 1,
   "metadata": {},
   "outputs": [],
   "source": [
    "# this is guided discussion AND practice,\n",
    "# follow along!\n",
    "\n",
    "# start running code from the textbook here\n",
    "# add as many new code cells as you want "
   ]
  },
  {
   "cell_type": "markdown",
   "metadata": {},
   "source": [
    "## Exercises (try, pair, share)\n",
    "\n",
    "1. Say hi to the person next to you\n",
    "1. [Try to guess each other's lie](https://github.com/orgs/LeDataSciFi/teams/classmates-2022/discussions/3)"
   ]
  },
  {
   "cell_type": "code",
   "execution_count": 2,
   "metadata": {
    "tags": []
   },
   "outputs": [
    {
     "data": {
      "text/plain": [
       "[8, 6, 7]"
      ]
     },
     "execution_count": 2,
     "metadata": {},
     "output_type": "execute_result"
    }
   ],
   "source": [
    "L=[8, 5, 6, 3, 7]\n",
    "len(L)\n",
    "max(L)\n",
    "min(L)\n",
    "sum(L)\n",
    "L[0] ## to access elements by position use the square brackets\n",
    "L[-1]\n",
    "L[0:2]## not 0:1 becasue the position is where the cursor is \n",
    "L[-2:]\n",
    "L[::2] #start:stop:step shows the odd numbers "
   ]
  },
  {
   "cell_type": "markdown",
   "metadata": {
    "slideshow": {
     "slide_type": "subslide"
    }
   },
   "source": [
    "Write code that does the following with  the vector `L`. Discuss with the person next to you as needed:\n",
    "\n",
    "1. Returns the length.\n",
    "1. Returns the largest element.\n",
    "1. Returns the smallest element.\n",
    "1. Returns the total of the vector.\n",
    "2. Returns the first element. See [this awesome answer](https://stackoverflow.com/questions/509211/understanding-slice-notation?rq=1) to learn about \"slicing\" lists in Python. If that link is dead: https://stackoverflow.com/questions/509211/understanding-slice-notation?rq=1 \n",
    "2. Returns the last element.\n",
    "2. Returns the first 2 elements.\n",
    "2. Returns the last 2 elements.\n",
    "2. Returns the odd numbered elements (i.e. [8,6,7].\n",
    "1. Clear your output and restart the kernel, then rerun your code. \n"
   ]
  },
  {
   "cell_type": "code",
   "execution_count": null,
   "metadata": {
    "slideshow": {
     "slide_type": "subslide"
    },
    "tags": [
     "popout"
    ]
   },
   "outputs": [],
   "source": [
    "x = 7\n",
    "if x < 5:       # this is false, obviously,\n",
    "    z = x+2        # so this never runs and \n",
    "    print('I am not here.') # this doesn't print\n",
    "print('starting new block')\n",
    "if x < 5:       # this is false, obviously,\n",
    "    z = x+2        # so this never runs and \n",
    "print('I am here') # this does print"
   ]
  },
  {
   "cell_type": "code",
   "execution_count": 42,
   "metadata": {},
   "outputs": [
    {
     "name": "stdout",
     "output_type": "stream",
     "text": [
      "1530\n",
      "3100\n",
      "GM 350.0\n",
      "F 200.0\n",
      "TSLA 3.0\n",
      "MSFT -1.0\n",
      "GM 10\n",
      "F 20\n",
      "TSLA 1000\n",
      "1030\n"
     ]
    }
   ],
   "source": [
    "#day 2 exercises\n",
    "stonks = ['GM','F','TSLA','MSFT']\n",
    "prices = {'GM':10,'F':20,'TSLA':1000,'MSFT':500}\n",
    "shares = {'GM':4,'F':3,'TSLA':2,'MSFT':2}\n",
    "weights = {'GM':0.35,'F':0.4,'TSLA':0.3,'MSFT':-0.05} # not typo\n",
    "industry = {'GM':'auto','F':'auto','TSLA':'auto','MSFT':'tech'}\n",
    "\n",
    "#1\n",
    "\n",
    "tot=0\n",
    "for stonk in stonks:\n",
    "    price=prices[stonk]\n",
    "    tot = tot + price\n",
    "print(tot)\n",
    "\n",
    "#2\n",
    "tot=0\n",
    "for stonk in stonks:\n",
    "    price = prices[stonk]\n",
    "    \n",
    "    share = shares[stonk]\n",
    "    \n",
    "    tot= tot + (price*share)\n",
    "print(tot)\n",
    "\n",
    "#3\n",
    "\n",
    "\n",
    "for stonk in stonks:\n",
    "    print(stonk, 10000*weights[stonk]/prices[stonk])\n",
    "    \n",
    "#4\n",
    "\n",
    "tot= 0 \n",
    "for stonk in stonks:\n",
    "    if (industry[stonk]=='auto'):\n",
    "        print(stonk, prices[stonk])\n",
    "        tot= tot+prices[stonk]\n",
    "print(tot)\n",
    "    \n",
    "    \n"
   ]
  },
  {
   "cell_type": "code",
   "execution_count": null,
   "metadata": {},
   "outputs": [],
   "source": []
  }
 ],
 "metadata": {
  "celltoolbar": "Tags",
  "kernelspec": {
   "display_name": "Python 3",
   "language": "python",
   "name": "python3"
  },
  "language_info": {
   "codemirror_mode": {
    "name": "ipython",
    "version": 3
   },
   "file_extension": ".py",
   "mimetype": "text/x-python",
   "name": "python",
   "nbconvert_exporter": "python",
   "pygments_lexer": "ipython3",
   "version": "3.8.8"
  }
 },
 "nbformat": 4,
 "nbformat_minor": 4
}
